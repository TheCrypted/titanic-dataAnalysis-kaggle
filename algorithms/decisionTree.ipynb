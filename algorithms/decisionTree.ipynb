{
 "cells": [
  {
   "cell_type": "code",
   "execution_count": 1,
   "metadata": {
    "collapsed": true
   },
   "outputs": [],
   "source": [
    "import numpy as np\n",
    "import pandas as pd\n",
    "import sklearn\n",
    "import matplotlib.pyplot as plt\n",
    "import seaborn as sns"
   ]
  },
  {
   "cell_type": "code",
   "execution_count": 2,
   "outputs": [],
   "source": [
    "X_train = np.array([[1,1,1],[1,0,1],[1,0,0],[1,0,0],[1,1,1],[0,1,1],[0,0,0],[1,0,1],[0,1,0],[1,0,0]])\n",
    "y_train = np.array([1,1,0,0,1,0,0,1,1,0])"
   ],
   "metadata": {
    "collapsed": false
   }
  },
  {
   "cell_type": "code",
   "execution_count": 32,
   "outputs": [],
   "source": [
    "def compute_entropy(y):\n",
    "    probPos = np.sum(y)/len(y)\n",
    "    if probPos == 0 or probPos == 1 or len(y) == 0:\n",
    "        return 0\n",
    "    return -probPos*np.log2(probPos) - (1 - probPos)*np.log2((1 - probPos))"
   ],
   "metadata": {
    "collapsed": false
   }
  },
  {
   "cell_type": "code",
   "execution_count": 31,
   "outputs": [],
   "source": [
    "def split_feature(X, node_indices, feature):\n",
    "    node_features = X[node_indices]\n",
    "    node_indices = np.asarray(node_indices)\n",
    "    left_split = node_indices[np.where(node_features[:, feature] == 0)[0]]\n",
    "    right_split = node_indices[np.where(node_features[:, feature] == 1)[0]]\n",
    "    return left_split, right_split"
   ],
   "metadata": {
    "collapsed": false
   }
  },
  {
   "cell_type": "code",
   "execution_count": 37,
   "outputs": [],
   "source": [
    "def compute_information_gain(X, y, left_indices, right_indices):\n",
    "    node_indices = np.concatenate((left_indices, right_indices))\n",
    "    node_features, node_classes = X[node_indices], y[node_indices]\n",
    "    left_classes, right_classes = y[left_indices], y[right_indices]\n",
    "\n",
    "    base_entropy = compute_entropy(node_classes)\n",
    "    left_entropy, right_entropy = compute_entropy(left_classes), compute_entropy(right_classes)\n",
    "\n",
    "    weighted_entropy = (len(left_classes)/len(node_classes) * left_entropy) + (len(right_classes)/len(node_classes) * right_entropy)\n",
    "    return base_entropy - weighted_entropy\n"
   ],
   "metadata": {
    "collapsed": false
   }
  },
  {
   "cell_type": "code",
   "execution_count": 38,
   "outputs": [
    {
     "data": {
      "text/plain": "0.07278022578373267"
     },
     "execution_count": 38,
     "metadata": {},
     "output_type": "execute_result"
    }
   ],
   "source": [
    "left_indices_test, right_indices_test = split_feature(X_train, range(9), 0)\n",
    "compute_information_gain(X_train, y_train, left_indices_test, right_indices_test)"
   ],
   "metadata": {
    "collapsed": false
   }
  },
  {
   "cell_type": "code",
   "execution_count": 30,
   "outputs": [
    {
     "name": "stdout",
     "output_type": "stream",
     "text": [
      "[[1 1 1]\n",
      " [1 0 1]\n",
      " [1 0 0]\n",
      " [0 1 1]]\n"
     ]
    },
    {
     "data": {
      "text/plain": "(array([5]), array([0, 1, 3]))"
     },
     "execution_count": 30,
     "metadata": {},
     "output_type": "execute_result"
    }
   ],
   "source": [
    "split_feature(X_train, [0, 1, 3, 5], 0)"
   ],
   "metadata": {
    "collapsed": false
   }
  }
 ],
 "metadata": {
  "kernelspec": {
   "display_name": "Python 3",
   "language": "python",
   "name": "python3"
  },
  "language_info": {
   "codemirror_mode": {
    "name": "ipython",
    "version": 2
   },
   "file_extension": ".py",
   "mimetype": "text/x-python",
   "name": "python",
   "nbconvert_exporter": "python",
   "pygments_lexer": "ipython2",
   "version": "2.7.6"
  }
 },
 "nbformat": 4,
 "nbformat_minor": 0
}
