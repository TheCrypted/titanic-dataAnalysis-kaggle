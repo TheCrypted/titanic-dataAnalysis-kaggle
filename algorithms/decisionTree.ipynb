{
 "cells": [
  {
   "cell_type": "code",
   "execution_count": 1,
   "metadata": {
    "collapsed": true
   },
   "outputs": [],
   "source": [
    "import numpy as np\n",
    "import pandas as pd\n",
    "import sklearn\n",
    "import matplotlib.pyplot as plt\n",
    "import seaborn as sns"
   ]
  },
  {
   "cell_type": "code",
   "execution_count": 2,
   "outputs": [],
   "source": [
    "X_train = np.array([[1,1,1],[1,0,1],[1,0,0],[1,0,0],[1,1,1],[0,1,1],[0,0,0],[1,0,1],[0,1,0],[1,0,0]])\n",
    "y_train = np.array([1,1,0,0,1,0,0,1,1,0])"
   ],
   "metadata": {
    "collapsed": false
   }
  },
  {
   "cell_type": "code",
   "execution_count": 96,
   "outputs": [],
   "source": [
    "def compute_entropy(y):\n",
    "    if len(y) == 0:\n",
    "        return 0\n",
    "    probPos = np.sum(y)/len(y)\n",
    "    if probPos == 0 or probPos == 1:\n",
    "        return 0\n",
    "    return -probPos*np.log2(probPos) - (1 - probPos)*np.log2((1 - probPos))"
   ],
   "metadata": {
    "collapsed": false
   }
  },
  {
   "cell_type": "code",
   "execution_count": 31,
   "outputs": [],
   "source": [
    "def split_feature(X, node_indices, feature):\n",
    "    node_features = X[node_indices]\n",
    "    node_indices = np.asarray(node_indices)\n",
    "    left_split = node_indices[np.where(node_features[:, feature] == 0)[0]]\n",
    "    right_split = node_indices[np.where(node_features[:, feature] == 1)[0]]\n",
    "    return left_split, right_split"
   ],
   "metadata": {
    "collapsed": false
   }
  },
  {
   "cell_type": "code",
   "execution_count": 81,
   "outputs": [],
   "source": [
    "def compute_information_gain(X, y, left_indices, right_indices):\n",
    "    node_indices = np.concatenate((left_indices, right_indices))\n",
    "    node_features, node_classes = X[node_indices], y[node_indices]\n",
    "    left_classes, right_classes = y[left_indices], y[right_indices]\n",
    "    base_entropy = compute_entropy(y[node_indices])\n",
    "    left_entropy, right_entropy = compute_entropy(left_classes), compute_entropy(right_classes)\n",
    "\n",
    "    weighted_entropy = (len(left_classes)/len(node_classes) * left_entropy) + (len(right_classes)/len(node_classes) * right_entropy)\n",
    "    return base_entropy - weighted_entropy\n"
   ],
   "metadata": {
    "collapsed": false
   }
  },
  {
   "cell_type": "code",
   "execution_count": 76,
   "outputs": [],
   "source": [
    "class DecisionNode:\n",
    "    def __init__(self, value=None, left=None, right=None):\n",
    "        self.value = value\n",
    "        self.left = left\n",
    "        self.right = right\n",
    "\n",
    "    def getLeft(self):\n",
    "        return self.left\n",
    "\n",
    "    def getRight(self):\n",
    "        return self.right"
   ],
   "metadata": {
    "collapsed": false
   }
  },
  {
   "cell_type": "code",
   "execution_count": 145,
   "outputs": [],
   "source": [
    "class DecisionTree:\n",
    "    def __init__(self, max_depth=4):\n",
    "        self.root = None\n",
    "        self.nodes = [self.root]\n",
    "        self.max_depth = max_depth\n",
    "        self.current_depth = 1\n",
    "\n",
    "    def fit_helper(self, x, y, node_indices, minimum_info_gain= 0.01):\n",
    "        if self.current_depth > self.max_depth:\n",
    "            positive = np.sum(y[node_indices] == 1)\n",
    "            negative = len(y[node_indices] == 0) - positive\n",
    "            return 1 if positive > negative else 0\n",
    "\n",
    "        best_split = {\"feature\": -1, \"information_gain\": -1, \"split_tuple\": (None, None)}\n",
    "        for i in range(x.shape[1]):\n",
    "            left_indices, right_indices = split_feature(x, node_indices, i)\n",
    "            info_gain = compute_information_gain(x, y, left_indices, right_indices)\n",
    "            if info_gain > best_split[\"information_gain\"]:\n",
    "                best_split = {\"feature\": i, \"information_gain\": info_gain, \"split_tuple\": (left_indices, right_indices)}\n",
    "\n",
    "        if best_split[\"information_gain\"] <= minimum_info_gain:\n",
    "            positive = np.sum(y[node_indices] == 1)\n",
    "            negative = len(y[node_indices] == 0) - positive\n",
    "            return 1 if positive > negative else 0\n",
    "\n",
    "        node = DecisionNode(value=best_split[\"feature\"])\n",
    "        node.left = self.fit_helper(x, y, best_split[\"split_tuple\"][0], minimum_info_gain=minimum_info_gain)\n",
    "        node.right = self.fit_helper(x, y, best_split[\"split_tuple\"][1], minimum_info_gain=minimum_info_gain)\n",
    "        return node\n",
    "    \n",
    "    def fit(self, x, y):\n",
    "        self.root = self.fit_helper(x, y, range(x.shape[0]))\n",
    "\n",
    "    def predict_recursive(self, x, node):\n",
    "        if type(node) == int or not node:\n",
    "            return node\n",
    "\n",
    "        feature_considered = node.value\n",
    "        if x[feature_considered] == 1:\n",
    "            return self.predict_recursive(x, node.right)\n",
    "        else:\n",
    "            return self.predict_recursive(x, node.left)\n",
    "\n",
    "    def predict(self, x):\n",
    "        y = np.apply_along_axis(lambda mu: self.predict_recursive(mu, self.root), axis=1, arr=x)\n",
    "        return y\n",
    "\n",
    "\n"
   ],
   "metadata": {
    "collapsed": false
   }
  },
  {
   "cell_type": "code",
   "execution_count": 146,
   "outputs": [],
   "source": [
    "model = DecisionTree()\n",
    "model.fit(X_train, y_train)"
   ],
   "metadata": {
    "collapsed": false
   }
  },
  {
   "cell_type": "code",
   "execution_count": 147,
   "outputs": [
    {
     "name": "stdout",
     "output_type": "stream",
     "text": [
      "[1 1]\n"
     ]
    }
   ],
   "source": [
    "inputNew = np.asarray([[0, 1, 0], [1, 1, 0]])\n",
    "print(model.predict(inputNew))"
   ],
   "metadata": {
    "collapsed": false
   }
  },
  {
   "cell_type": "code",
   "execution_count": 56,
   "outputs": [
    {
     "name": "stdout",
     "output_type": "stream",
     "text": [
      "1.0\n"
     ]
    },
    {
     "data": {
      "text/plain": "0.2780719051126377"
     },
     "execution_count": 56,
     "metadata": {},
     "output_type": "execute_result"
    }
   ],
   "source": [
    "left_indices_test, right_indices_test = split_feature(X_train, range(10), 2)\n",
    "compute_information_gain(X_train, y_train, left_indices_test, right_indices_test)"
   ],
   "metadata": {
    "collapsed": false
   }
  }
 ],
 "metadata": {
  "kernelspec": {
   "display_name": "Python 3",
   "language": "python",
   "name": "python3"
  },
  "language_info": {
   "codemirror_mode": {
    "name": "ipython",
    "version": 2
   },
   "file_extension": ".py",
   "mimetype": "text/x-python",
   "name": "python",
   "nbconvert_exporter": "python",
   "pygments_lexer": "ipython2",
   "version": "2.7.6"
  }
 },
 "nbformat": 4,
 "nbformat_minor": 0
}
