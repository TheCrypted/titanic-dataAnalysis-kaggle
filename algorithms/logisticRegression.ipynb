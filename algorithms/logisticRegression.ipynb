{
 "cells": [
  {
   "cell_type": "code",
   "execution_count": 4,
   "metadata": {
    "collapsed": true
   },
   "outputs": [],
   "source": [
    "import pandas as pd\n",
    "import numpy as np\n",
    "import matplotlib.pyplot as plt\n",
    "import seaborn as sns\n",
    "import sklearn"
   ]
  },
  {
   "cell_type": "code",
   "execution_count": 38,
   "outputs": [],
   "source": [
    "x = np.array([[34.62365962, 78.02469282],\n",
    "    [30.28671077, 43.89499752],\n",
    "    [35.84740877, 72.90219803],\n",
    "    [60.18259939, 86.3085521 ],\n",
    "    [79.03273605, 75.34437644]])\n",
    "y = np.array([0, 0, 0, 1, 1])"
   ],
   "metadata": {
    "collapsed": false
   }
  },
  {
   "cell_type": "code",
   "execution_count": 39,
   "outputs": [
    {
     "data": {
      "text/plain": "(0.0, 81.470037314)"
     },
     "execution_count": 39,
     "metadata": {},
     "output_type": "execute_result"
    },
    {
     "data": {
      "text/plain": "<Figure size 640x480 with 1 Axes>",
      "image/png": "[encoded data removed]"
     },
     "metadata": {},
     "output_type": "display_data"
    }
   ],
   "source": [
    "colours = [\"red\" if x == 0 else \"green\" for x in y]\n",
    "plt.scatter(x[:, 0], x[:, 1], c=colours )\n",
    "plt.ylim(0)\n",
    "plt.xlim(0)"
   ],
   "metadata": {
    "collapsed": false
   }
  },
  {
   "cell_type": "code",
   "execution_count": 40,
   "outputs": [],
   "source": [
    "def sigmoid(x):\n",
    "    return 1/(1+np.exp(-x))"
   ],
   "metadata": {
    "collapsed": false
   }
  },
  {
   "cell_type": "code",
   "execution_count": 65,
   "outputs": [],
   "source": [
    "def compute_MSE(yPred, yActual):\n",
    "    return np.mean((yPred - yActual)**2)"
   ],
   "metadata": {
    "collapsed": false
   }
  },
  {
   "cell_type": "code",
   "execution_count": 71,
   "outputs": [],
   "source": [
    "def compute_weights(x, y, alpha, iterations):\n",
    "    w = np.zeros(x.shape[1])\n",
    "    b = 0\n",
    "    for k in range(iterations):\n",
    "        yPred = sigmoid(np.dot(x, w) + b)\n",
    "        for i in range(len(w)):\n",
    "            if abs(alpha * np.mean((yPred - y)*x[:, i])) < 0.001:\n",
    "                return w, b\n",
    "            w[i] -= alpha * np.mean((yPred - y)*x[:, i])\n",
    "        b -= alpha * np.mean(yPred - y)\n",
    "    return w, b"
   ],
   "metadata": {
    "collapsed": false
   }
  },
  {
   "cell_type": "code",
   "execution_count": 54,
   "outputs": [],
   "source": [
    "def predict(x, w, b):\n",
    "    return np.dot(x, w)+b"
   ],
   "metadata": {
    "collapsed": false
   }
  },
  {
   "cell_type": "code",
   "execution_count": 79,
   "outputs": [
    {
     "name": "stdout",
     "output_type": "stream",
     "text": [
      "0.4\n"
     ]
    }
   ],
   "source": [
    "w, b = compute_weights(x, y, 0.00001, 10000)\n",
    "yPreds = predict(x, w, b)\n",
    "print(compute_MSE(yPreds, y))"
   ],
   "metadata": {
    "collapsed": false
   }
  },
  {
   "cell_type": "code",
   "execution_count": null,
   "outputs": [],
   "source": [],
   "metadata": {
    "collapsed": false
   }
  }
 ],
 "metadata": {
  "kernelspec": {
   "display_name": "Python 3",
   "language": "python",
   "name": "python3"
  },
  "language_info": {
   "codemirror_mode": {
    "name": "ipython",
    "version": 2
   },
   "file_extension": ".py",
   "mimetype": "text/x-python",
   "name": "python",
   "nbconvert_exporter": "python",
   "pygments_lexer": "ipython2",
   "version": "2.7.6"
  }
 },
 "nbformat": 4,
 "nbformat_minor": 0
}
