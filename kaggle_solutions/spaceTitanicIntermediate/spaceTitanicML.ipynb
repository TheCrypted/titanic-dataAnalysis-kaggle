{
 "cells": [
  {
   "cell_type": "code",
   "execution_count": 1,
   "metadata": {
    "collapsed": true
   },
   "outputs": [],
   "source": [
    "import numpy as np\n",
    "import pandas as pd\n",
    "import sklearn\n",
    "import matplotlib.pyplot as plt\n",
    "import seaborn as sns"
   ]
  },
  {
   "cell_type": "code",
   "execution_count": 2,
   "outputs": [
    {
     "data": {
      "text/plain": "  PassengerId HomePlanet CryoSleep  Cabin  Destination   Age    VIP  \\\n0     0001_01     Europa     False  B/0/P  TRAPPIST-1e  39.0  False   \n1     0002_01      Earth     False  F/0/S  TRAPPIST-1e  24.0  False   \n2     0003_01     Europa     False  A/0/S  TRAPPIST-1e  58.0   True   \n3     0003_02     Europa     False  A/0/S  TRAPPIST-1e  33.0  False   \n4     0004_01      Earth     False  F/1/S  TRAPPIST-1e  16.0  False   \n\n   RoomService  FoodCourt  ShoppingMall     Spa  VRDeck               Name  \\\n0          0.0        0.0           0.0     0.0     0.0    Maham Ofracculy   \n1        109.0        9.0          25.0   549.0    44.0       Juanna Vines   \n2         43.0     3576.0           0.0  6715.0    49.0      Altark Susent   \n3          0.0     1283.0         371.0  3329.0   193.0       Solam Susent   \n4        303.0       70.0         151.0   565.0     2.0  Willy Santantines   \n\n   Transported  \n0        False  \n1         True  \n2        False  \n3        False  \n4         True  ",
      "text/html": "<div>\n<style scoped>\n    .dataframe tbody tr th:only-of-type {\n        vertical-align: middle;\n    }\n\n    .dataframe tbody tr th {\n        vertical-align: top;\n    }\n\n    .dataframe thead th {\n        text-align: right;\n    }\n</style>\n<table border=\"1\" class=\"dataframe\">\n  <thead>\n    <tr style=\"text-align: right;\">\n      <th></th>\n      <th>PassengerId</th>\n      <th>HomePlanet</th>\n      <th>CryoSleep</th>\n      <th>Cabin</th>\n      <th>Destination</th>\n      <th>Age</th>\n      <th>VIP</th>\n      <th>RoomService</th>\n      <th>FoodCourt</th>\n      <th>ShoppingMall</th>\n      <th>Spa</th>\n      <th>VRDeck</th>\n      <th>Name</th>\n      <th>Transported</th>\n    </tr>\n  </thead>\n  <tbody>\n    <tr>\n      <th>0</th>\n      <td>0001_01</td>\n      <td>Europa</td>\n      <td>False</td>\n      <td>B/0/P</td>\n      <td>TRAPPIST-1e</td>\n      <td>39.0</td>\n      <td>False</td>\n      <td>0.0</td>\n      <td>0.0</td>\n      <td>0.0</td>\n      <td>0.0</td>\n      <td>0.0</td>\n      <td>Maham Ofracculy</td>\n      <td>False</td>\n    </tr>\n    <tr>\n      <th>1</th>\n      <td>0002_01</td>\n      <td>Earth</td>\n      <td>False</td>\n      <td>F/0/S</td>\n      <td>TRAPPIST-1e</td>\n      <td>24.0</td>\n      <td>False</td>\n      <td>109.0</td>\n      <td>9.0</td>\n      <td>25.0</td>\n      <td>549.0</td>\n      <td>44.0</td>\n      <td>Juanna Vines</td>\n      <td>True</td>\n    </tr>\n    <tr>\n      <th>2</th>\n      <td>0003_01</td>\n      <td>Europa</td>\n      <td>False</td>\n      <td>A/0/S</td>\n      <td>TRAPPIST-1e</td>\n      <td>58.0</td>\n      <td>True</td>\n      <td>43.0</td>\n      <td>3576.0</td>\n      <td>0.0</td>\n      <td>6715.0</td>\n      <td>49.0</td>\n      <td>Altark Susent</td>\n      <td>False</td>\n    </tr>\n    <tr>\n      <th>3</th>\n      <td>0003_02</td>\n      <td>Europa</td>\n      <td>False</td>\n      <td>A/0/S</td>\n      <td>TRAPPIST-1e</td>\n      <td>33.0</td>\n      <td>False</td>\n      <td>0.0</td>\n      <td>1283.0</td>\n      <td>371.0</td>\n      <td>3329.0</td>\n      <td>193.0</td>\n      <td>Solam Susent</td>\n      <td>False</td>\n    </tr>\n    <tr>\n      <th>4</th>\n      <td>0004_01</td>\n      <td>Earth</td>\n      <td>False</td>\n      <td>F/1/S</td>\n      <td>TRAPPIST-1e</td>\n      <td>16.0</td>\n      <td>False</td>\n      <td>303.0</td>\n      <td>70.0</td>\n      <td>151.0</td>\n      <td>565.0</td>\n      <td>2.0</td>\n      <td>Willy Santantines</td>\n      <td>True</td>\n    </tr>\n  </tbody>\n</table>\n</div>"
     },
     "execution_count": 2,
     "metadata": {},
     "output_type": "execute_result"
    }
   ],
   "source": [
    "df = pd.read_csv(\"./spaceship-titanic/train.csv\")\n",
    "df.head()"
   ],
   "metadata": {
    "collapsed": false
   }
  },
  {
   "cell_type": "code",
   "execution_count": 6,
   "outputs": [
    {
     "data": {
      "text/plain": "PassengerId       0\nHomePlanet      201\nCryoSleep       217\nCabin           199\nDestination     182\nAge             179\nVIP             203\nRoomService     181\nFoodCourt       183\nShoppingMall    208\nSpa             183\nVRDeck          188\nName            200\nTransported       0\ndtype: int64"
     },
     "execution_count": 6,
     "metadata": {},
     "output_type": "execute_result"
    }
   ],
   "source": [
    "df.isna().sum()"
   ],
   "metadata": {
    "collapsed": false
   }
  },
  {
   "cell_type": "code",
   "execution_count": 24,
   "outputs": [],
   "source": [
    "most_common_planet = df[\"HomePlanet\"].value_counts().index[0]\n",
    "df[\"HomePlanet\"].replace(np.nan, most_common_planet, inplace=True)"
   ],
   "metadata": {
    "collapsed": false
   }
  },
  {
   "cell_type": "code",
   "execution_count": 28,
   "outputs": [
    {
     "data": {
      "text/plain": "PassengerId       0\nHomePlanet        0\nCryoSleep         0\nCabin           199\nDestination     182\nAge             179\nVIP             203\nRoomService     181\nFoodCourt       183\nShoppingMall    208\nSpa             183\nVRDeck          188\nName            200\nTransported       0\ndtype: int64"
     },
     "execution_count": 28,
     "metadata": {},
     "output_type": "execute_result"
    }
   ],
   "source": [
    "most_common_cryostate = df[\"CryoSleep\"].value_counts().index[0]\n",
    "df[\"CryoSleep\"].replace(np.nan, most_common_planet, inplace=True)"
   ],
   "metadata": {
    "collapsed": false
   }
  },
  {
   "cell_type": "code",
   "execution_count": 32,
   "outputs": [
    {
     "name": "stderr",
     "output_type": "stream",
     "text": [
      "C:\\Users\\Aman's Laptop\\AppData\\Local\\Temp\\ipykernel_6612\\3536582469.py:2: SettingWithCopyWarning: \n",
      "A value is trying to be set on a copy of a slice from a DataFrame.\n",
      "Try using .loc[row_indexer,col_indexer] = value instead\n",
      "\n",
      "See the caveats in the documentation: https://pandas.pydata.org/pandas-docs/stable/user_guide/indexing.html#returning-a-view-versus-a-copy\n",
      "  dfGraphing[\"CabinRegion\"] = dfGraphing[\"Cabin\"].str.split(\"/\").str[0]\n"
     ]
    }
   ],
   "source": [
    "dfGraphing = df[[\"Cabin\", \"Transported\"]]\n",
    "dfGraphing[\"CabinRegion\"] = dfGraphing[\"Cabin\"].str.split(\"/\").str[0]\n",
    "grouped_cabin_data = dfGraphing.groupby([\"CabinRegion\", \"Transported\"]).size()\n",
    "# sns.histplot()"
   ],
   "metadata": {
    "collapsed": false
   }
  },
  {
   "cell_type": "code",
   "execution_count": 48,
   "outputs": [
    {
     "data": {
      "text/plain": "  CabinRegion  Transported    0\n0           A        False  129\n1           A         True  127\n2           B        False  207\n3           B         True  572\n4           C        False  239",
      "text/html": "<div>\n<style scoped>\n    .dataframe tbody tr th:only-of-type {\n        vertical-align: middle;\n    }\n\n    .dataframe tbody tr th {\n        vertical-align: top;\n    }\n\n    .dataframe thead th {\n        text-align: right;\n    }\n</style>\n<table border=\"1\" class=\"dataframe\">\n  <thead>\n    <tr style=\"text-align: right;\">\n      <th></th>\n      <th>CabinRegion</th>\n      <th>Transported</th>\n      <th>0</th>\n    </tr>\n  </thead>\n  <tbody>\n    <tr>\n      <th>0</th>\n      <td>A</td>\n      <td>False</td>\n      <td>129</td>\n    </tr>\n    <tr>\n      <th>1</th>\n      <td>A</td>\n      <td>True</td>\n      <td>127</td>\n    </tr>\n    <tr>\n      <th>2</th>\n      <td>B</td>\n      <td>False</td>\n      <td>207</td>\n    </tr>\n    <tr>\n      <th>3</th>\n      <td>B</td>\n      <td>True</td>\n      <td>572</td>\n    </tr>\n    <tr>\n      <th>4</th>\n      <td>C</td>\n      <td>False</td>\n      <td>239</td>\n    </tr>\n  </tbody>\n</table>\n</div>"
     },
     "execution_count": 48,
     "metadata": {},
     "output_type": "execute_result"
    }
   ],
   "source": [
    "grouped_cabin_data = grouped_cabin_data.reset_index()\n",
    "grouped_cabin_data.head()"
   ],
   "metadata": {
    "collapsed": false
   }
  },
  {
   "cell_type": "code",
   "execution_count": 57,
   "outputs": [
    {
     "data": {
      "text/plain": "<Axes: xlabel='CabinRegion', ylabel='0'>"
     },
     "execution_count": 57,
     "metadata": {},
     "output_type": "execute_result"
    },
    {
     "data": {
      "text/plain": "<Figure size 640x480 with 1 Axes>",
      "image/png": "[encoded data removed]"
     },
     "metadata": {},
     "output_type": "display_data"
    }
   ],
   "source": [
    "plottingHelper = grouped_cabin_data[grouped_cabin_data[\"Transported\"] == True].value_counts().reset_index()\n",
    "sns.barplot(x=\"CabinRegion\", y=0, data=plottingHelper)"
   ],
   "metadata": {
    "collapsed": false
   }
  },
  {
   "cell_type": "code",
   "execution_count": 59,
   "outputs": [
    {
     "name": "stderr",
     "output_type": "stream",
     "text": [
      "C:\\Users\\Aman's Laptop\\AppData\\Local\\Temp\\ipykernel_6612\\4101250196.py:1: SettingWithCopyWarning: \n",
      "A value is trying to be set on a copy of a slice from a DataFrame.\n",
      "Try using .loc[row_indexer,col_indexer] = value instead\n",
      "\n",
      "See the caveats in the documentation: https://pandas.pydata.org/pandas-docs/stable/user_guide/indexing.html#returning-a-view-versus-a-copy\n",
      "  dfGraphing[\"Side\"] = dfGraphing[\"Cabin\"].str.split(\"/\").str[-1]\n"
     ]
    },
    {
     "data": {
      "text/plain": "   Cabin  Transported CabinRegion Side\n0  B/0/P        False           B    P\n1  F/0/S         True           F    S\n2  A/0/S        False           A    S\n3  A/0/S        False           A    S\n4  F/1/S         True           F    S",
      "text/html": "<div>\n<style scoped>\n    .dataframe tbody tr th:only-of-type {\n        vertical-align: middle;\n    }\n\n    .dataframe tbody tr th {\n        vertical-align: top;\n    }\n\n    .dataframe thead th {\n        text-align: right;\n    }\n</style>\n<table border=\"1\" class=\"dataframe\">\n  <thead>\n    <tr style=\"text-align: right;\">\n      <th></th>\n      <th>Cabin</th>\n      <th>Transported</th>\n      <th>CabinRegion</th>\n      <th>Side</th>\n    </tr>\n  </thead>\n  <tbody>\n    <tr>\n      <th>0</th>\n      <td>B/0/P</td>\n      <td>False</td>\n      <td>B</td>\n      <td>P</td>\n    </tr>\n    <tr>\n      <th>1</th>\n      <td>F/0/S</td>\n      <td>True</td>\n      <td>F</td>\n      <td>S</td>\n    </tr>\n    <tr>\n      <th>2</th>\n      <td>A/0/S</td>\n      <td>False</td>\n      <td>A</td>\n      <td>S</td>\n    </tr>\n    <tr>\n      <th>3</th>\n      <td>A/0/S</td>\n      <td>False</td>\n      <td>A</td>\n      <td>S</td>\n    </tr>\n    <tr>\n      <th>4</th>\n      <td>F/1/S</td>\n      <td>True</td>\n      <td>F</td>\n      <td>S</td>\n    </tr>\n  </tbody>\n</table>\n</div>"
     },
     "execution_count": 59,
     "metadata": {},
     "output_type": "execute_result"
    }
   ],
   "source": [
    "dfGraphing[\"Side\"] = dfGraphing[\"Cabin\"].str.split(\"/\").str[-1]\n",
    "dfGraphing.head()"
   ],
   "metadata": {
    "collapsed": false
   }
  },
  {
   "cell_type": "code",
   "execution_count": 61,
   "outputs": [
    {
     "data": {
      "text/plain": "  Side  Transported     0\n0    P        False  2308\n1    P         True  1898\n2    S        False  1908\n3    S         True  2380",
      "text/html": "<div>\n<style scoped>\n    .dataframe tbody tr th:only-of-type {\n        vertical-align: middle;\n    }\n\n    .dataframe tbody tr th {\n        vertical-align: top;\n    }\n\n    .dataframe thead th {\n        text-align: right;\n    }\n</style>\n<table border=\"1\" class=\"dataframe\">\n  <thead>\n    <tr style=\"text-align: right;\">\n      <th></th>\n      <th>Side</th>\n      <th>Transported</th>\n      <th>0</th>\n    </tr>\n  </thead>\n  <tbody>\n    <tr>\n      <th>0</th>\n      <td>P</td>\n      <td>False</td>\n      <td>2308</td>\n    </tr>\n    <tr>\n      <th>1</th>\n      <td>P</td>\n      <td>True</td>\n      <td>1898</td>\n    </tr>\n    <tr>\n      <th>2</th>\n      <td>S</td>\n      <td>False</td>\n      <td>1908</td>\n    </tr>\n    <tr>\n      <th>3</th>\n      <td>S</td>\n      <td>True</td>\n      <td>2380</td>\n    </tr>\n  </tbody>\n</table>\n</div>"
     },
     "execution_count": 61,
     "metadata": {},
     "output_type": "execute_result"
    }
   ],
   "source": [
    "grouped_side = dfGraphing.groupby([\"Side\", \"Transported\"]).size()\n",
    "grouped_side = grouped_side.reset_index()\n",
    "grouped_side.head()"
   ],
   "metadata": {
    "collapsed": false
   }
  },
  {
   "cell_type": "code",
   "execution_count": 63,
   "outputs": [
    {
     "data": {
      "text/plain": "<Axes: xlabel='Side', ylabel='0'>"
     },
     "execution_count": 63,
     "metadata": {},
     "output_type": "execute_result"
    },
    {
     "data": {
      "text/plain": "<Figure size 640x480 with 1 Axes>",
      "image/png": "[encoded data removed]"
     },
     "metadata": {},
     "output_type": "display_data"
    }
   ],
   "source": [
    "sns.barplot(x=\"Side\", y=0, data=grouped_side)"
   ],
   "metadata": {
    "collapsed": false
   }
  },
  {
   "cell_type": "code",
   "execution_count": 64,
   "outputs": [
    {
     "data": {
      "text/plain": "  PassengerId HomePlanet CryoSleep  Cabin  Destination   Age    VIP  \\\n0     0001_01     Europa     False  B/0/P  TRAPPIST-1e  39.0  False   \n1     0002_01      Earth     False  F/0/S  TRAPPIST-1e  24.0  False   \n2     0003_01     Europa     False  A/0/S  TRAPPIST-1e  58.0   True   \n3     0003_02     Europa     False  A/0/S  TRAPPIST-1e  33.0  False   \n4     0004_01      Earth     False  F/1/S  TRAPPIST-1e  16.0  False   \n\n   RoomService  FoodCourt  ShoppingMall     Spa  VRDeck               Name  \\\n0          0.0        0.0           0.0     0.0     0.0    Maham Ofracculy   \n1        109.0        9.0          25.0   549.0    44.0       Juanna Vines   \n2         43.0     3576.0           0.0  6715.0    49.0      Altark Susent   \n3          0.0     1283.0         371.0  3329.0   193.0       Solam Susent   \n4        303.0       70.0         151.0   565.0     2.0  Willy Santantines   \n\n   Transported Deck CabinNumber Side  \n0        False    B           0    P  \n1         True    F           0    S  \n2        False    A           0    S  \n3        False    A           0    S  \n4         True    F           1    S  ",
      "text/html": "<div>\n<style scoped>\n    .dataframe tbody tr th:only-of-type {\n        vertical-align: middle;\n    }\n\n    .dataframe tbody tr th {\n        vertical-align: top;\n    }\n\n    .dataframe thead th {\n        text-align: right;\n    }\n</style>\n<table border=\"1\" class=\"dataframe\">\n  <thead>\n    <tr style=\"text-align: right;\">\n      <th></th>\n      <th>PassengerId</th>\n      <th>HomePlanet</th>\n      <th>CryoSleep</th>\n      <th>Cabin</th>\n      <th>Destination</th>\n      <th>Age</th>\n      <th>VIP</th>\n      <th>RoomService</th>\n      <th>FoodCourt</th>\n      <th>ShoppingMall</th>\n      <th>Spa</th>\n      <th>VRDeck</th>\n      <th>Name</th>\n      <th>Transported</th>\n      <th>Deck</th>\n      <th>CabinNumber</th>\n      <th>Side</th>\n    </tr>\n  </thead>\n  <tbody>\n    <tr>\n      <th>0</th>\n      <td>0001_01</td>\n      <td>Europa</td>\n      <td>False</td>\n      <td>B/0/P</td>\n      <td>TRAPPIST-1e</td>\n      <td>39.0</td>\n      <td>False</td>\n      <td>0.0</td>\n      <td>0.0</td>\n      <td>0.0</td>\n      <td>0.0</td>\n      <td>0.0</td>\n      <td>Maham Ofracculy</td>\n      <td>False</td>\n      <td>B</td>\n      <td>0</td>\n      <td>P</td>\n    </tr>\n    <tr>\n      <th>1</th>\n      <td>0002_01</td>\n      <td>Earth</td>\n      <td>False</td>\n      <td>F/0/S</td>\n      <td>TRAPPIST-1e</td>\n      <td>24.0</td>\n      <td>False</td>\n      <td>109.0</td>\n      <td>9.0</td>\n      <td>25.0</td>\n      <td>549.0</td>\n      <td>44.0</td>\n      <td>Juanna Vines</td>\n      <td>True</td>\n      <td>F</td>\n      <td>0</td>\n      <td>S</td>\n    </tr>\n    <tr>\n      <th>2</th>\n      <td>0003_01</td>\n      <td>Europa</td>\n      <td>False</td>\n      <td>A/0/S</td>\n      <td>TRAPPIST-1e</td>\n      <td>58.0</td>\n      <td>True</td>\n      <td>43.0</td>\n      <td>3576.0</td>\n      <td>0.0</td>\n      <td>6715.0</td>\n      <td>49.0</td>\n      <td>Altark Susent</td>\n      <td>False</td>\n      <td>A</td>\n      <td>0</td>\n      <td>S</td>\n    </tr>\n    <tr>\n      <th>3</th>\n      <td>0003_02</td>\n      <td>Europa</td>\n      <td>False</td>\n      <td>A/0/S</td>\n      <td>TRAPPIST-1e</td>\n      <td>33.0</td>\n      <td>False</td>\n      <td>0.0</td>\n      <td>1283.0</td>\n      <td>371.0</td>\n      <td>3329.0</td>\n      <td>193.0</td>\n      <td>Solam Susent</td>\n      <td>False</td>\n      <td>A</td>\n      <td>0</td>\n      <td>S</td>\n    </tr>\n    <tr>\n      <th>4</th>\n      <td>0004_01</td>\n      <td>Earth</td>\n      <td>False</td>\n      <td>F/1/S</td>\n      <td>TRAPPIST-1e</td>\n      <td>16.0</td>\n      <td>False</td>\n      <td>303.0</td>\n      <td>70.0</td>\n      <td>151.0</td>\n      <td>565.0</td>\n      <td>2.0</td>\n      <td>Willy Santantines</td>\n      <td>True</td>\n      <td>F</td>\n      <td>1</td>\n      <td>S</td>\n    </tr>\n  </tbody>\n</table>\n</div>"
     },
     "execution_count": 64,
     "metadata": {},
     "output_type": "execute_result"
    }
   ],
   "source": [
    "df[[\"Deck\", \"CabinNumber\", \"Side\"]] = df[\"Cabin\"].str.split(\"/\", expand=True)\n",
    "df.head()"
   ],
   "metadata": {
    "collapsed": false
   }
  },
  {
   "cell_type": "code",
   "execution_count": 65,
   "outputs": [
    {
     "data": {
      "text/plain": "  HomePlanet CryoSleep  Destination   Age    VIP  RoomService  FoodCourt  \\\n0     Europa     False  TRAPPIST-1e  39.0  False          0.0        0.0   \n1      Earth     False  TRAPPIST-1e  24.0  False        109.0        9.0   \n2     Europa     False  TRAPPIST-1e  58.0   True         43.0     3576.0   \n3     Europa     False  TRAPPIST-1e  33.0  False          0.0     1283.0   \n4      Earth     False  TRAPPIST-1e  16.0  False        303.0       70.0   \n\n   ShoppingMall     Spa  VRDeck  Transported Deck CabinNumber Side  \n0           0.0     0.0     0.0        False    B           0    P  \n1          25.0   549.0    44.0         True    F           0    S  \n2           0.0  6715.0    49.0        False    A           0    S  \n3         371.0  3329.0   193.0        False    A           0    S  \n4         151.0   565.0     2.0         True    F           1    S  ",
      "text/html": "<div>\n<style scoped>\n    .dataframe tbody tr th:only-of-type {\n        vertical-align: middle;\n    }\n\n    .dataframe tbody tr th {\n        vertical-align: top;\n    }\n\n    .dataframe thead th {\n        text-align: right;\n    }\n</style>\n<table border=\"1\" class=\"dataframe\">\n  <thead>\n    <tr style=\"text-align: right;\">\n      <th></th>\n      <th>HomePlanet</th>\n      <th>CryoSleep</th>\n      <th>Destination</th>\n      <th>Age</th>\n      <th>VIP</th>\n      <th>RoomService</th>\n      <th>FoodCourt</th>\n      <th>ShoppingMall</th>\n      <th>Spa</th>\n      <th>VRDeck</th>\n      <th>Transported</th>\n      <th>Deck</th>\n      <th>CabinNumber</th>\n      <th>Side</th>\n    </tr>\n  </thead>\n  <tbody>\n    <tr>\n      <th>0</th>\n      <td>Europa</td>\n      <td>False</td>\n      <td>TRAPPIST-1e</td>\n      <td>39.0</td>\n      <td>False</td>\n      <td>0.0</td>\n      <td>0.0</td>\n      <td>0.0</td>\n      <td>0.0</td>\n      <td>0.0</td>\n      <td>False</td>\n      <td>B</td>\n      <td>0</td>\n      <td>P</td>\n    </tr>\n    <tr>\n      <th>1</th>\n      <td>Earth</td>\n      <td>False</td>\n      <td>TRAPPIST-1e</td>\n      <td>24.0</td>\n      <td>False</td>\n      <td>109.0</td>\n      <td>9.0</td>\n      <td>25.0</td>\n      <td>549.0</td>\n      <td>44.0</td>\n      <td>True</td>\n      <td>F</td>\n      <td>0</td>\n      <td>S</td>\n    </tr>\n    <tr>\n      <th>2</th>\n      <td>Europa</td>\n      <td>False</td>\n      <td>TRAPPIST-1e</td>\n      <td>58.0</td>\n      <td>True</td>\n      <td>43.0</td>\n      <td>3576.0</td>\n      <td>0.0</td>\n      <td>6715.0</td>\n      <td>49.0</td>\n      <td>False</td>\n      <td>A</td>\n      <td>0</td>\n      <td>S</td>\n    </tr>\n    <tr>\n      <th>3</th>\n      <td>Europa</td>\n      <td>False</td>\n      <td>TRAPPIST-1e</td>\n      <td>33.0</td>\n      <td>False</td>\n      <td>0.0</td>\n      <td>1283.0</td>\n      <td>371.0</td>\n      <td>3329.0</td>\n      <td>193.0</td>\n      <td>False</td>\n      <td>A</td>\n      <td>0</td>\n      <td>S</td>\n    </tr>\n    <tr>\n      <th>4</th>\n      <td>Earth</td>\n      <td>False</td>\n      <td>TRAPPIST-1e</td>\n      <td>16.0</td>\n      <td>False</td>\n      <td>303.0</td>\n      <td>70.0</td>\n      <td>151.0</td>\n      <td>565.0</td>\n      <td>2.0</td>\n      <td>True</td>\n      <td>F</td>\n      <td>1</td>\n      <td>S</td>\n    </tr>\n  </tbody>\n</table>\n</div>"
     },
     "execution_count": 65,
     "metadata": {},
     "output_type": "execute_result"
    }
   ],
   "source": [
    "df.drop(columns=[\"Cabin\", \"PassengerId\", \"Name\"], inplace=True, axis=1)\n",
    "df.head()"
   ],
   "metadata": {
    "collapsed": false
   }
  },
  {
   "cell_type": "code",
   "execution_count": 77,
   "outputs": [
    {
     "data": {
      "text/plain": "HomePlanet        0\nCryoSleep         0\nDestination     182\nAge             179\nVIP             203\nRoomService       0\nFoodCourt         0\nShoppingMall      0\nSpa               0\nVRDeck            0\nTransported       0\nDeck            199\nCabinNumber     199\nSide            199\ndtype: int64"
     },
     "execution_count": 77,
     "metadata": {},
     "output_type": "execute_result"
    }
   ],
   "source": [
    "for i in range(5, 10):\n",
    "    mean_val = df.iloc[:, i].mean()\n",
    "    df.iloc[:, i].fillna(mean_val, inplace=True)\n",
    "\n",
    "df.isna().sum()"
   ],
   "metadata": {
    "collapsed": false
   }
  },
  {
   "cell_type": "code",
   "execution_count": 79,
   "outputs": [
    {
     "data": {
      "text/plain": "HomePlanet      0\nCryoSleep       0\nDestination     0\nAge             0\nVIP             0\nRoomService     0\nFoodCourt       0\nShoppingMall    0\nSpa             0\nVRDeck          0\nTransported     0\nDeck            0\nCabinNumber     0\nSide            0\ndtype: int64"
     },
     "execution_count": 79,
     "metadata": {},
     "output_type": "execute_result"
    }
   ],
   "source": [
    "df.fillna(0, inplace=True)\n",
    "df.isna().sum()"
   ],
   "metadata": {
    "collapsed": false
   }
  },
  {
   "cell_type": "code",
   "execution_count": 98,
   "outputs": [],
   "source": [
    "from sklearn.model_selection import train_test_split\n",
    "\n",
    "X_train, X_test, y_train, y_test = train_test_split(df.drop(\"Transported\", axis=1), df[\"Transported\"], test_size=0.2, random_state=4)"
   ],
   "metadata": {
    "collapsed": false
   }
  },
  {
   "cell_type": "code",
   "execution_count": 137,
   "outputs": [
    {
     "name": "stdout",
     "output_type": "stream",
     "text": [
      "HomePlanet\n",
      "CryoSleep\n",
      "Destination\n",
      "Age\n",
      "VIP\n",
      "RoomService\n",
      "FoodCourt\n",
      "ShoppingMall\n",
      "Spa\n",
      "VRDeck\n",
      "Deck\n",
      "CabinNumber\n",
      "Side\n"
     ]
    },
    {
     "data": {
      "text/plain": "HomePlanet        int64\nCryoSleep         int64\nDestination       int32\nAge             float64\nVIP               int64\nRoomService     float64\nFoodCourt       float64\nShoppingMall    float64\nSpa             float64\nVRDeck          float64\nTransported        bool\nDeck              int32\nCabinNumber      object\nSide              int32\ndtype: object"
     },
     "execution_count": 137,
     "metadata": {},
     "output_type": "execute_result"
    }
   ],
   "source": [
    "from sklearn.preprocessing import LabelEncoder\n",
    "df[\"CryoSleep\"] =df[\"CryoSleep\"].astype(bool)\n",
    "df[\"Destination\"] =df[\"Destination\"].astype(str)\n",
    "df[\"Deck\"] =df[\"Deck\"].astype(str)\n",
    "df[\"Side\"] =df[\"Side\"].astype(str)\n",
    "label_encoder = LabelEncoder()\n",
    "for column in X_train.columns.to_list():\n",
    "    print(column)\n",
    "    if df[column].dtype != \"float64\" and column != \"CabinNumber\":\n",
    "        df[column] = label_encoder.fit_transform(df[column])\n",
    "\n",
    "df.dtypes"
   ],
   "metadata": {
    "collapsed": false
   }
  },
  {
   "cell_type": "code",
   "execution_count": 136,
   "outputs": [],
   "source": [
    "y_train = label_encoder.fit_transform(y_train)\n",
    "y_test = label_encoder.fit_transform(y_test)"
   ],
   "metadata": {
    "collapsed": false
   }
  },
  {
   "cell_type": "code",
   "execution_count": 92,
   "outputs": [
    {
     "data": {
      "text/plain": "Side\nS    4288\nP    4206\n0     199\nName: count, dtype: int64"
     },
     "execution_count": 92,
     "metadata": {},
     "output_type": "execute_result"
    }
   ],
   "source": [
    "df[\"Side\"].value_counts()"
   ],
   "metadata": {
    "collapsed": false
   }
  },
  {
   "cell_type": "code",
   "execution_count": 100,
   "outputs": [
    {
     "name": "stdout",
     "output_type": "stream",
     "text": [
      "0.7441058079355952\n"
     ]
    }
   ],
   "source": [
    "from sklearn.metrics import accuracy_score\n",
    "from sklearn.tree import DecisionTreeClassifier\n",
    "\n",
    "tree = DecisionTreeClassifier()\n",
    "tree.fit(X_train, y_train)\n",
    "yPreds = tree.predict(X_test)\n",
    "print(accuracy_score(y_test, yPreds))"
   ],
   "metadata": {
    "collapsed": false
   }
  },
  {
   "cell_type": "code",
   "execution_count": 101,
   "outputs": [
    {
     "name": "stdout",
     "output_type": "stream",
     "text": [
      "0.7998849913743531\n"
     ]
    }
   ],
   "source": [
    "from sklearn.ensemble import RandomForestClassifier\n",
    "\n",
    "forestAlpha = RandomForestClassifier()\n",
    "forestAlpha.fit(X_train, y_train)\n",
    "yPredsForest = forestAlpha.predict(X_test)\n",
    "print(accuracy_score(y_test, yPredsForest))"
   ],
   "metadata": {
    "collapsed": false
   }
  },
  {
   "cell_type": "code",
   "execution_count": 110,
   "outputs": [
    {
     "name": "stdout",
     "output_type": "stream",
     "text": [
      "[0]\tvalidation_0-logloss:0.68895\n",
      "[1]\tvalidation_0-logloss:0.68483\n",
      "[2]\tvalidation_0-logloss:0.68080\n",
      "[3]\tvalidation_0-logloss:0.67684\n",
      "[4]\tvalidation_0-logloss:0.67297\n",
      "[5]\tvalidation_0-logloss:0.66918\n",
      "[6]\tvalidation_0-logloss:0.66545\n",
      "[7]\tvalidation_0-logloss:0.66180\n",
      "[8]\tvalidation_0-logloss:0.65821\n",
      "[9]\tvalidation_0-logloss:0.65479\n",
      "[10]\tvalidation_0-logloss:0.65142\n",
      "[11]\tvalidation_0-logloss:0.64811\n",
      "[12]\tvalidation_0-logloss:0.64482\n",
      "[13]\tvalidation_0-logloss:0.64163\n",
      "[14]\tvalidation_0-logloss:0.63844\n",
      "[15]\tvalidation_0-logloss:0.63538\n",
      "[16]\tvalidation_0-logloss:0.63238\n",
      "[17]\tvalidation_0-logloss:0.62936\n",
      "[18]\tvalidation_0-logloss:0.62642\n",
      "[19]\tvalidation_0-logloss:0.62355\n",
      "[20]\tvalidation_0-logloss:0.62070\n",
      "[21]\tvalidation_0-logloss:0.61790\n",
      "[22]\tvalidation_0-logloss:0.61516\n",
      "[23]\tvalidation_0-logloss:0.61251\n",
      "[24]\tvalidation_0-logloss:0.60987\n",
      "[25]\tvalidation_0-logloss:0.60721\n",
      "[26]\tvalidation_0-logloss:0.60467\n",
      "[27]\tvalidation_0-logloss:0.60212\n",
      "[28]\tvalidation_0-logloss:0.59968\n",
      "[29]\tvalidation_0-logloss:0.59726\n",
      "[30]\tvalidation_0-logloss:0.59484\n",
      "[31]\tvalidation_0-logloss:0.59245\n",
      "[32]\tvalidation_0-logloss:0.59004\n",
      "[33]\tvalidation_0-logloss:0.58780\n",
      "[34]\tvalidation_0-logloss:0.58559\n",
      "[35]\tvalidation_0-logloss:0.58331\n",
      "[36]\tvalidation_0-logloss:0.58110\n",
      "[37]\tvalidation_0-logloss:0.57899\n",
      "[38]\tvalidation_0-logloss:0.57686\n",
      "[39]\tvalidation_0-logloss:0.57480\n",
      "[40]\tvalidation_0-logloss:0.57273\n",
      "[41]\tvalidation_0-logloss:0.57066\n",
      "[42]\tvalidation_0-logloss:0.56866\n",
      "[43]\tvalidation_0-logloss:0.56676\n",
      "[44]\tvalidation_0-logloss:0.56482\n",
      "[45]\tvalidation_0-logloss:0.56295\n",
      "[46]\tvalidation_0-logloss:0.56112\n",
      "[47]\tvalidation_0-logloss:0.55923\n"
     ]
    },
    {
     "name": "stderr",
     "output_type": "stream",
     "text": [
      "C:\\Users\\Aman's Laptop\\AppData\\Local\\Programs\\Python\\Python311\\Lib\\site-packages\\xgboost\\sklearn.py:835: UserWarning: `early_stopping_rounds` in `fit` method is deprecated for better compatibility with scikit-learn, use `early_stopping_rounds` in constructor or`set_params` instead.\n",
      "  warnings.warn(\n"
     ]
    },
    {
     "name": "stdout",
     "output_type": "stream",
     "text": [
      "[48]\tvalidation_0-logloss:0.55737\n",
      "[49]\tvalidation_0-logloss:0.55555\n",
      "[50]\tvalidation_0-logloss:0.55381\n",
      "[51]\tvalidation_0-logloss:0.55205\n",
      "[52]\tvalidation_0-logloss:0.55037\n",
      "[53]\tvalidation_0-logloss:0.54870\n",
      "[54]\tvalidation_0-logloss:0.54704\n",
      "[55]\tvalidation_0-logloss:0.54539\n",
      "[56]\tvalidation_0-logloss:0.54376\n",
      "[57]\tvalidation_0-logloss:0.54216\n",
      "[58]\tvalidation_0-logloss:0.54062\n",
      "[59]\tvalidation_0-logloss:0.53904\n",
      "[60]\tvalidation_0-logloss:0.53758\n",
      "[61]\tvalidation_0-logloss:0.53599\n",
      "[62]\tvalidation_0-logloss:0.53452\n",
      "[63]\tvalidation_0-logloss:0.53301\n",
      "[64]\tvalidation_0-logloss:0.53160\n",
      "[65]\tvalidation_0-logloss:0.53021\n",
      "[66]\tvalidation_0-logloss:0.52889\n",
      "[67]\tvalidation_0-logloss:0.52755\n",
      "[68]\tvalidation_0-logloss:0.52622\n",
      "[69]\tvalidation_0-logloss:0.52476\n",
      "[70]\tvalidation_0-logloss:0.52344\n",
      "[71]\tvalidation_0-logloss:0.52211\n",
      "[72]\tvalidation_0-logloss:0.52085\n",
      "[73]\tvalidation_0-logloss:0.51951\n",
      "[74]\tvalidation_0-logloss:0.51834\n",
      "[75]\tvalidation_0-logloss:0.51702\n",
      "[76]\tvalidation_0-logloss:0.51574\n",
      "[77]\tvalidation_0-logloss:0.51458\n",
      "[78]\tvalidation_0-logloss:0.51345\n",
      "[79]\tvalidation_0-logloss:0.51211\n",
      "[80]\tvalidation_0-logloss:0.51100\n",
      "[81]\tvalidation_0-logloss:0.50970\n",
      "[82]\tvalidation_0-logloss:0.50853\n",
      "[83]\tvalidation_0-logloss:0.50737\n",
      "[84]\tvalidation_0-logloss:0.50623\n",
      "[85]\tvalidation_0-logloss:0.50504\n",
      "[86]\tvalidation_0-logloss:0.50385\n",
      "[87]\tvalidation_0-logloss:0.50285\n",
      "[88]\tvalidation_0-logloss:0.50171\n",
      "[89]\tvalidation_0-logloss:0.50058\n",
      "[90]\tvalidation_0-logloss:0.49950\n",
      "[91]\tvalidation_0-logloss:0.49848\n",
      "[92]\tvalidation_0-logloss:0.49735\n",
      "[93]\tvalidation_0-logloss:0.49644\n",
      "[94]\tvalidation_0-logloss:0.49537\n",
      "[95]\tvalidation_0-logloss:0.49445\n",
      "[96]\tvalidation_0-logloss:0.49341\n",
      "[97]\tvalidation_0-logloss:0.49255\n",
      "[98]\tvalidation_0-logloss:0.49157\n",
      "[99]\tvalidation_0-logloss:0.49066\n",
      "[100]\tvalidation_0-logloss:0.48969\n",
      "[101]\tvalidation_0-logloss:0.48882\n",
      "[102]\tvalidation_0-logloss:0.48784\n",
      "[103]\tvalidation_0-logloss:0.48706\n",
      "[104]\tvalidation_0-logloss:0.48612\n",
      "[105]\tvalidation_0-logloss:0.48521\n",
      "[106]\tvalidation_0-logloss:0.48432\n",
      "[107]\tvalidation_0-logloss:0.48353\n",
      "[108]\tvalidation_0-logloss:0.48262\n",
      "[109]\tvalidation_0-logloss:0.48188\n",
      "[110]\tvalidation_0-logloss:0.48101\n",
      "[111]\tvalidation_0-logloss:0.48032\n",
      "[112]\tvalidation_0-logloss:0.47948\n",
      "[113]\tvalidation_0-logloss:0.47880\n",
      "[114]\tvalidation_0-logloss:0.47797\n",
      "[115]\tvalidation_0-logloss:0.47718\n",
      "[116]\tvalidation_0-logloss:0.47649\n",
      "[117]\tvalidation_0-logloss:0.47575\n",
      "[118]\tvalidation_0-logloss:0.47503\n",
      "[119]\tvalidation_0-logloss:0.47425\n",
      "[120]\tvalidation_0-logloss:0.47352\n",
      "[121]\tvalidation_0-logloss:0.47284\n",
      "[122]\tvalidation_0-logloss:0.47212\n",
      "[123]\tvalidation_0-logloss:0.47142\n",
      "[124]\tvalidation_0-logloss:0.47081\n",
      "[125]\tvalidation_0-logloss:0.47018\n",
      "[126]\tvalidation_0-logloss:0.46945\n",
      "[127]\tvalidation_0-logloss:0.46879\n",
      "[128]\tvalidation_0-logloss:0.46812\n",
      "[129]\tvalidation_0-logloss:0.46753\n",
      "[130]\tvalidation_0-logloss:0.46688\n",
      "[131]\tvalidation_0-logloss:0.46629\n",
      "[132]\tvalidation_0-logloss:0.46550\n",
      "[133]\tvalidation_0-logloss:0.46493\n",
      "[134]\tvalidation_0-logloss:0.46430\n",
      "[135]\tvalidation_0-logloss:0.46368\n",
      "[136]\tvalidation_0-logloss:0.46291\n",
      "[137]\tvalidation_0-logloss:0.46239\n",
      "[138]\tvalidation_0-logloss:0.46170\n",
      "[139]\tvalidation_0-logloss:0.46092\n",
      "[140]\tvalidation_0-logloss:0.46036\n",
      "[141]\tvalidation_0-logloss:0.45979\n",
      "[142]\tvalidation_0-logloss:0.45904\n",
      "[143]\tvalidation_0-logloss:0.45852\n",
      "[144]\tvalidation_0-logloss:0.45799\n",
      "[145]\tvalidation_0-logloss:0.45726\n",
      "[146]\tvalidation_0-logloss:0.45670\n",
      "[147]\tvalidation_0-logloss:0.45603\n",
      "[148]\tvalidation_0-logloss:0.45545\n",
      "[149]\tvalidation_0-logloss:0.45488\n",
      "[150]\tvalidation_0-logloss:0.45422\n",
      "[151]\tvalidation_0-logloss:0.45366\n",
      "[152]\tvalidation_0-logloss:0.45303\n",
      "[153]\tvalidation_0-logloss:0.45252\n",
      "[154]\tvalidation_0-logloss:0.45187\n",
      "[155]\tvalidation_0-logloss:0.45136\n",
      "[156]\tvalidation_0-logloss:0.45074\n",
      "[157]\tvalidation_0-logloss:0.45024\n",
      "[158]\tvalidation_0-logloss:0.44960\n",
      "[159]\tvalidation_0-logloss:0.44910\n",
      "[160]\tvalidation_0-logloss:0.44847\n",
      "[161]\tvalidation_0-logloss:0.44805\n",
      "[162]\tvalidation_0-logloss:0.44758\n",
      "[163]\tvalidation_0-logloss:0.44698\n",
      "[164]\tvalidation_0-logloss:0.44660\n",
      "[165]\tvalidation_0-logloss:0.44617\n",
      "[166]\tvalidation_0-logloss:0.44561\n",
      "[167]\tvalidation_0-logloss:0.44523\n",
      "[168]\tvalidation_0-logloss:0.44462\n",
      "[169]\tvalidation_0-logloss:0.44414\n",
      "[170]\tvalidation_0-logloss:0.44367\n",
      "[171]\tvalidation_0-logloss:0.44322\n",
      "[172]\tvalidation_0-logloss:0.44276\n",
      "[173]\tvalidation_0-logloss:0.44232\n",
      "[174]\tvalidation_0-logloss:0.44196\n",
      "[175]\tvalidation_0-logloss:0.44140\n",
      "[176]\tvalidation_0-logloss:0.44099\n",
      "[177]\tvalidation_0-logloss:0.44051\n",
      "[178]\tvalidation_0-logloss:0.44012\n",
      "[179]\tvalidation_0-logloss:0.43972\n",
      "[180]\tvalidation_0-logloss:0.43925\n",
      "[181]\tvalidation_0-logloss:0.43897\n",
      "[182]\tvalidation_0-logloss:0.43857\n",
      "[183]\tvalidation_0-logloss:0.43805\n",
      "[184]\tvalidation_0-logloss:0.43774\n",
      "[185]\tvalidation_0-logloss:0.43722\n",
      "[186]\tvalidation_0-logloss:0.43692\n",
      "[187]\tvalidation_0-logloss:0.43646\n",
      "[188]\tvalidation_0-logloss:0.43607\n",
      "[189]\tvalidation_0-logloss:0.43574\n",
      "[190]\tvalidation_0-logloss:0.43546\n",
      "[191]\tvalidation_0-logloss:0.43510\n",
      "[192]\tvalidation_0-logloss:0.43464\n",
      "[193]\tvalidation_0-logloss:0.43424\n",
      "[194]\tvalidation_0-logloss:0.43385\n",
      "[195]\tvalidation_0-logloss:0.43357\n",
      "[196]\tvalidation_0-logloss:0.43323\n",
      "[197]\tvalidation_0-logloss:0.43294\n",
      "[198]\tvalidation_0-logloss:0.43258\n",
      "[199]\tvalidation_0-logloss:0.43225\n",
      "[200]\tvalidation_0-logloss:0.43195\n",
      "[201]\tvalidation_0-logloss:0.43161\n",
      "[202]\tvalidation_0-logloss:0.43120\n",
      "[203]\tvalidation_0-logloss:0.43092\n",
      "[204]\tvalidation_0-logloss:0.43053\n",
      "[205]\tvalidation_0-logloss:0.43030\n",
      "[206]\tvalidation_0-logloss:0.42994\n",
      "[207]\tvalidation_0-logloss:0.42948\n",
      "[208]\tvalidation_0-logloss:0.42921\n",
      "[209]\tvalidation_0-logloss:0.42882\n",
      "[210]\tvalidation_0-logloss:0.42849\n",
      "[211]\tvalidation_0-logloss:0.42817\n",
      "[212]\tvalidation_0-logloss:0.42795\n",
      "[213]\tvalidation_0-logloss:0.42760\n",
      "[214]\tvalidation_0-logloss:0.42728\n",
      "[215]\tvalidation_0-logloss:0.42698\n",
      "[216]\tvalidation_0-logloss:0.42665\n",
      "[217]\tvalidation_0-logloss:0.42635\n",
      "[218]\tvalidation_0-logloss:0.42611\n",
      "[219]\tvalidation_0-logloss:0.42586\n",
      "[220]\tvalidation_0-logloss:0.42546\n",
      "[221]\tvalidation_0-logloss:0.42518\n",
      "[222]\tvalidation_0-logloss:0.42480\n",
      "[223]\tvalidation_0-logloss:0.42446\n",
      "[224]\tvalidation_0-logloss:0.42410\n",
      "[225]\tvalidation_0-logloss:0.42381\n",
      "[226]\tvalidation_0-logloss:0.42343\n",
      "[227]\tvalidation_0-logloss:0.42313\n",
      "[228]\tvalidation_0-logloss:0.42277\n",
      "[229]\tvalidation_0-logloss:0.42251\n",
      "[230]\tvalidation_0-logloss:0.42218\n",
      "[231]\tvalidation_0-logloss:0.42190\n",
      "[232]\tvalidation_0-logloss:0.42159\n",
      "[233]\tvalidation_0-logloss:0.42133\n",
      "[234]\tvalidation_0-logloss:0.42106\n",
      "[235]\tvalidation_0-logloss:0.42082\n",
      "[236]\tvalidation_0-logloss:0.42059\n",
      "[237]\tvalidation_0-logloss:0.42030\n",
      "[238]\tvalidation_0-logloss:0.42005\n",
      "[239]\tvalidation_0-logloss:0.41972\n",
      "[240]\tvalidation_0-logloss:0.41940\n",
      "[241]\tvalidation_0-logloss:0.41915\n",
      "[242]\tvalidation_0-logloss:0.41889\n",
      "[243]\tvalidation_0-logloss:0.41856\n",
      "[244]\tvalidation_0-logloss:0.41827\n",
      "[245]\tvalidation_0-logloss:0.41799\n",
      "[246]\tvalidation_0-logloss:0.41770\n",
      "[247]\tvalidation_0-logloss:0.41742\n",
      "[248]\tvalidation_0-logloss:0.41717\n",
      "[249]\tvalidation_0-logloss:0.41688\n",
      "[250]\tvalidation_0-logloss:0.41664\n",
      "[251]\tvalidation_0-logloss:0.41640\n",
      "[252]\tvalidation_0-logloss:0.41616\n",
      "[253]\tvalidation_0-logloss:0.41593\n",
      "[254]\tvalidation_0-logloss:0.41570\n",
      "[255]\tvalidation_0-logloss:0.41550\n",
      "[256]\tvalidation_0-logloss:0.41522\n",
      "[257]\tvalidation_0-logloss:0.41504\n",
      "[258]\tvalidation_0-logloss:0.41482\n",
      "[259]\tvalidation_0-logloss:0.41457\n",
      "[260]\tvalidation_0-logloss:0.41438\n",
      "[261]\tvalidation_0-logloss:0.41415\n",
      "[262]\tvalidation_0-logloss:0.41400\n",
      "[263]\tvalidation_0-logloss:0.41381\n",
      "[264]\tvalidation_0-logloss:0.41366\n",
      "[265]\tvalidation_0-logloss:0.41341\n",
      "[266]\tvalidation_0-logloss:0.41331\n",
      "[267]\tvalidation_0-logloss:0.41319\n",
      "[268]\tvalidation_0-logloss:0.41301\n",
      "[269]\tvalidation_0-logloss:0.41287\n",
      "[270]\tvalidation_0-logloss:0.41272\n",
      "[271]\tvalidation_0-logloss:0.41255\n",
      "[272]\tvalidation_0-logloss:0.41245\n",
      "[273]\tvalidation_0-logloss:0.41236\n",
      "[274]\tvalidation_0-logloss:0.41220\n",
      "[275]\tvalidation_0-logloss:0.41211\n",
      "[276]\tvalidation_0-logloss:0.41198\n",
      "[277]\tvalidation_0-logloss:0.41185\n",
      "[278]\tvalidation_0-logloss:0.41174\n",
      "[279]\tvalidation_0-logloss:0.41161\n",
      "[280]\tvalidation_0-logloss:0.41138\n",
      "[281]\tvalidation_0-logloss:0.41127\n",
      "[282]\tvalidation_0-logloss:0.41117\n",
      "[283]\tvalidation_0-logloss:0.41107\n",
      "[284]\tvalidation_0-logloss:0.41091\n",
      "[285]\tvalidation_0-logloss:0.41068\n",
      "[286]\tvalidation_0-logloss:0.41059\n",
      "[287]\tvalidation_0-logloss:0.41049\n",
      "[288]\tvalidation_0-logloss:0.41037\n",
      "[289]\tvalidation_0-logloss:0.41015\n",
      "[290]\tvalidation_0-logloss:0.40999\n",
      "[291]\tvalidation_0-logloss:0.40971\n",
      "[292]\tvalidation_0-logloss:0.40961\n",
      "[293]\tvalidation_0-logloss:0.40942\n",
      "[294]\tvalidation_0-logloss:0.40930\n",
      "[295]\tvalidation_0-logloss:0.40921\n",
      "[296]\tvalidation_0-logloss:0.40894\n",
      "[297]\tvalidation_0-logloss:0.40887\n",
      "[298]\tvalidation_0-logloss:0.40867\n",
      "[299]\tvalidation_0-logloss:0.40851\n",
      "[300]\tvalidation_0-logloss:0.40826\n",
      "[301]\tvalidation_0-logloss:0.40816\n",
      "[302]\tvalidation_0-logloss:0.40810\n",
      "[303]\tvalidation_0-logloss:0.40789\n",
      "[304]\tvalidation_0-logloss:0.40782\n",
      "[305]\tvalidation_0-logloss:0.40766\n",
      "[306]\tvalidation_0-logloss:0.40753\n",
      "[307]\tvalidation_0-logloss:0.40746\n",
      "[308]\tvalidation_0-logloss:0.40725\n",
      "[309]\tvalidation_0-logloss:0.40717\n",
      "[310]\tvalidation_0-logloss:0.40696\n",
      "[311]\tvalidation_0-logloss:0.40674\n",
      "[312]\tvalidation_0-logloss:0.40669\n",
      "[313]\tvalidation_0-logloss:0.40663\n",
      "[314]\tvalidation_0-logloss:0.40643\n",
      "[315]\tvalidation_0-logloss:0.40635\n",
      "[316]\tvalidation_0-logloss:0.40615\n",
      "[317]\tvalidation_0-logloss:0.40608\n",
      "[318]\tvalidation_0-logloss:0.40590\n",
      "[319]\tvalidation_0-logloss:0.40574\n",
      "[320]\tvalidation_0-logloss:0.40568\n",
      "[321]\tvalidation_0-logloss:0.40561\n",
      "[322]\tvalidation_0-logloss:0.40556\n",
      "[323]\tvalidation_0-logloss:0.40550\n",
      "[324]\tvalidation_0-logloss:0.40535\n",
      "[325]\tvalidation_0-logloss:0.40531\n",
      "[326]\tvalidation_0-logloss:0.40522\n",
      "[327]\tvalidation_0-logloss:0.40504\n",
      "[328]\tvalidation_0-logloss:0.40499\n",
      "[329]\tvalidation_0-logloss:0.40484\n",
      "[330]\tvalidation_0-logloss:0.40471\n",
      "[331]\tvalidation_0-logloss:0.40466\n",
      "[332]\tvalidation_0-logloss:0.40453\n",
      "[333]\tvalidation_0-logloss:0.40440\n",
      "[334]\tvalidation_0-logloss:0.40424\n",
      "[335]\tvalidation_0-logloss:0.40408\n",
      "[336]\tvalidation_0-logloss:0.40406\n",
      "[337]\tvalidation_0-logloss:0.40392\n",
      "[338]\tvalidation_0-logloss:0.40379\n",
      "[339]\tvalidation_0-logloss:0.40369\n",
      "[340]\tvalidation_0-logloss:0.40369\n",
      "[341]\tvalidation_0-logloss:0.40367\n",
      "[342]\tvalidation_0-logloss:0.40354\n",
      "[343]\tvalidation_0-logloss:0.40345\n",
      "[344]\tvalidation_0-logloss:0.40329\n",
      "[345]\tvalidation_0-logloss:0.40317\n",
      "[346]\tvalidation_0-logloss:0.40305\n",
      "[347]\tvalidation_0-logloss:0.40293\n",
      "[348]\tvalidation_0-logloss:0.40283\n",
      "[349]\tvalidation_0-logloss:0.40276\n",
      "[350]\tvalidation_0-logloss:0.40265\n",
      "[351]\tvalidation_0-logloss:0.40253\n",
      "[352]\tvalidation_0-logloss:0.40247\n",
      "[353]\tvalidation_0-logloss:0.40239\n",
      "[354]\tvalidation_0-logloss:0.40235\n",
      "[355]\tvalidation_0-logloss:0.40225\n",
      "[356]\tvalidation_0-logloss:0.40210\n",
      "[357]\tvalidation_0-logloss:0.40202\n",
      "[358]\tvalidation_0-logloss:0.40193\n",
      "[359]\tvalidation_0-logloss:0.40191\n",
      "[360]\tvalidation_0-logloss:0.40180\n",
      "[361]\tvalidation_0-logloss:0.40172\n",
      "[362]\tvalidation_0-logloss:0.40168\n",
      "[363]\tvalidation_0-logloss:0.40158\n",
      "[364]\tvalidation_0-logloss:0.40147\n",
      "[365]\tvalidation_0-logloss:0.40137\n",
      "[366]\tvalidation_0-logloss:0.40129\n",
      "[367]\tvalidation_0-logloss:0.40122\n",
      "[368]\tvalidation_0-logloss:0.40120\n",
      "[369]\tvalidation_0-logloss:0.40112\n",
      "[370]\tvalidation_0-logloss:0.40105\n",
      "[371]\tvalidation_0-logloss:0.40095\n",
      "[372]\tvalidation_0-logloss:0.40089\n",
      "[373]\tvalidation_0-logloss:0.40080\n",
      "[374]\tvalidation_0-logloss:0.40072\n",
      "[375]\tvalidation_0-logloss:0.40071\n",
      "[376]\tvalidation_0-logloss:0.40066\n",
      "[377]\tvalidation_0-logloss:0.40057\n",
      "[378]\tvalidation_0-logloss:0.40054\n",
      "[379]\tvalidation_0-logloss:0.40048\n",
      "[380]\tvalidation_0-logloss:0.40042\n",
      "[381]\tvalidation_0-logloss:0.40043\n",
      "[382]\tvalidation_0-logloss:0.40039\n",
      "[383]\tvalidation_0-logloss:0.40041\n",
      "[384]\tvalidation_0-logloss:0.40034\n",
      "[385]\tvalidation_0-logloss:0.40030\n",
      "[386]\tvalidation_0-logloss:0.40024\n",
      "[387]\tvalidation_0-logloss:0.40028\n",
      "[388]\tvalidation_0-logloss:0.40022\n",
      "[389]\tvalidation_0-logloss:0.40013\n",
      "[390]\tvalidation_0-logloss:0.40008\n",
      "[391]\tvalidation_0-logloss:0.40006\n",
      "[392]\tvalidation_0-logloss:0.40003\n",
      "[393]\tvalidation_0-logloss:0.39999\n",
      "[394]\tvalidation_0-logloss:0.40003\n",
      "[395]\tvalidation_0-logloss:0.39997\n",
      "[396]\tvalidation_0-logloss:0.39996\n",
      "[397]\tvalidation_0-logloss:0.39993\n",
      "[398]\tvalidation_0-logloss:0.39993\n",
      "[399]\tvalidation_0-logloss:0.39988\n",
      "[400]\tvalidation_0-logloss:0.39980\n",
      "[401]\tvalidation_0-logloss:0.39977\n",
      "[402]\tvalidation_0-logloss:0.39971\n",
      "[403]\tvalidation_0-logloss:0.39969\n",
      "[404]\tvalidation_0-logloss:0.39963\n",
      "[405]\tvalidation_0-logloss:0.39958\n",
      "[406]\tvalidation_0-logloss:0.39947\n",
      "[407]\tvalidation_0-logloss:0.39937\n",
      "[408]\tvalidation_0-logloss:0.39935\n",
      "[409]\tvalidation_0-logloss:0.39932\n",
      "[410]\tvalidation_0-logloss:0.39926\n",
      "[411]\tvalidation_0-logloss:0.39923\n",
      "[412]\tvalidation_0-logloss:0.39917\n",
      "[413]\tvalidation_0-logloss:0.39913\n",
      "[414]\tvalidation_0-logloss:0.39903\n",
      "[415]\tvalidation_0-logloss:0.39900\n",
      "[416]\tvalidation_0-logloss:0.39896\n",
      "[417]\tvalidation_0-logloss:0.39886\n",
      "[418]\tvalidation_0-logloss:0.39877\n",
      "[419]\tvalidation_0-logloss:0.39876\n",
      "[420]\tvalidation_0-logloss:0.39874\n",
      "[421]\tvalidation_0-logloss:0.39869\n",
      "[422]\tvalidation_0-logloss:0.39865\n",
      "[423]\tvalidation_0-logloss:0.39862\n",
      "[424]\tvalidation_0-logloss:0.39861\n",
      "[425]\tvalidation_0-logloss:0.39856\n",
      "[426]\tvalidation_0-logloss:0.39856\n",
      "[427]\tvalidation_0-logloss:0.39850\n",
      "[428]\tvalidation_0-logloss:0.39850\n",
      "[429]\tvalidation_0-logloss:0.39849\n",
      "[430]\tvalidation_0-logloss:0.39843\n",
      "[431]\tvalidation_0-logloss:0.39842\n",
      "[432]\tvalidation_0-logloss:0.39841\n",
      "[433]\tvalidation_0-logloss:0.39834\n",
      "[434]\tvalidation_0-logloss:0.39836\n",
      "[435]\tvalidation_0-logloss:0.39840\n",
      "[436]\tvalidation_0-logloss:0.39839\n",
      "[437]\tvalidation_0-logloss:0.39835\n",
      "[438]\tvalidation_0-logloss:0.39826\n",
      "[439]\tvalidation_0-logloss:0.39826\n",
      "[440]\tvalidation_0-logloss:0.39827\n",
      "[441]\tvalidation_0-logloss:0.39818\n",
      "[442]\tvalidation_0-logloss:0.39818\n",
      "[443]\tvalidation_0-logloss:0.39812\n",
      "[444]\tvalidation_0-logloss:0.39807\n",
      "[445]\tvalidation_0-logloss:0.39808\n",
      "[446]\tvalidation_0-logloss:0.39803\n",
      "[447]\tvalidation_0-logloss:0.39803\n",
      "[448]\tvalidation_0-logloss:0.39804\n",
      "[449]\tvalidation_0-logloss:0.39796\n",
      "[450]\tvalidation_0-logloss:0.39797\n",
      "[451]\tvalidation_0-logloss:0.39796\n",
      "[452]\tvalidation_0-logloss:0.39788\n",
      "[453]\tvalidation_0-logloss:0.39782\n",
      "[454]\tvalidation_0-logloss:0.39777\n",
      "[455]\tvalidation_0-logloss:0.39770\n",
      "[456]\tvalidation_0-logloss:0.39770\n",
      "[457]\tvalidation_0-logloss:0.39770\n",
      "[458]\tvalidation_0-logloss:0.39765\n",
      "[459]\tvalidation_0-logloss:0.39767\n",
      "[460]\tvalidation_0-logloss:0.39766\n",
      "[461]\tvalidation_0-logloss:0.39764\n",
      "[462]\tvalidation_0-logloss:0.39759\n",
      "[463]\tvalidation_0-logloss:0.39760\n",
      "[464]\tvalidation_0-logloss:0.39759\n",
      "[465]\tvalidation_0-logloss:0.39754\n",
      "[466]\tvalidation_0-logloss:0.39752\n",
      "[467]\tvalidation_0-logloss:0.39750\n",
      "[468]\tvalidation_0-logloss:0.39745\n",
      "[469]\tvalidation_0-logloss:0.39740\n",
      "[470]\tvalidation_0-logloss:0.39738\n",
      "[471]\tvalidation_0-logloss:0.39735\n",
      "[472]\tvalidation_0-logloss:0.39734\n",
      "[473]\tvalidation_0-logloss:0.39728\n",
      "[474]\tvalidation_0-logloss:0.39728\n",
      "[475]\tvalidation_0-logloss:0.39730\n",
      "[476]\tvalidation_0-logloss:0.39729\n",
      "[477]\tvalidation_0-logloss:0.39729\n",
      "[478]\tvalidation_0-logloss:0.39729\n",
      "[479]\tvalidation_0-logloss:0.39726\n",
      "[480]\tvalidation_0-logloss:0.39729\n",
      "[481]\tvalidation_0-logloss:0.39729\n",
      "[482]\tvalidation_0-logloss:0.39726\n",
      "[483]\tvalidation_0-logloss:0.39724\n",
      "[484]\tvalidation_0-logloss:0.39723\n",
      "[485]\tvalidation_0-logloss:0.39721\n",
      "[486]\tvalidation_0-logloss:0.39720\n",
      "[487]\tvalidation_0-logloss:0.39715\n",
      "[488]\tvalidation_0-logloss:0.39714\n",
      "[489]\tvalidation_0-logloss:0.39713\n",
      "[490]\tvalidation_0-logloss:0.39711\n",
      "[491]\tvalidation_0-logloss:0.39711\n",
      "[492]\tvalidation_0-logloss:0.39709\n",
      "[493]\tvalidation_0-logloss:0.39706\n",
      "[494]\tvalidation_0-logloss:0.39704\n",
      "[495]\tvalidation_0-logloss:0.39702\n",
      "[496]\tvalidation_0-logloss:0.39701\n",
      "[497]\tvalidation_0-logloss:0.39694\n",
      "[498]\tvalidation_0-logloss:0.39695\n",
      "[499]\tvalidation_0-logloss:0.39696\n"
     ]
    },
    {
     "data": {
      "text/plain": "XGBClassifier(base_score=None, booster=None, callbacks=None,\n              colsample_bylevel=None, colsample_bynode=None,\n              colsample_bytree=None, early_stopping_rounds=None,\n              enable_categorical=False, eval_metric=None, feature_types=None,\n              gamma=None, gpu_id=None, grow_policy=None, importance_type=None,\n              interaction_constraints=None, learning_rate=0.01, max_bin=None,\n              max_cat_threshold=None, max_cat_to_onehot=None,\n              max_delta_step=None, max_depth=None, max_leaves=None,\n              min_child_weight=None, missing=nan, monotone_constraints=None,\n              n_estimators=500, n_jobs=None, num_parallel_tree=None,\n              predictor=None, random_state=None, ...)",
      "text/html": "<style>#sk-container-id-3 {color: black;}#sk-container-id-3 pre{padding: 0;}#sk-container-id-3 div.sk-toggleable {background-color: white;}#sk-container-id-3 label.sk-toggleable__label {cursor: pointer;display: block;width: 100%;margin-bottom: 0;padding: 0.3em;box-sizing: border-box;text-align: center;}#sk-container-id-3 label.sk-toggleable__label-arrow:before {content: \"▸\";float: left;margin-right: 0.25em;color: #696969;}#sk-container-id-3 label.sk-toggleable__label-arrow:hover:before {color: black;}#sk-container-id-3 div.sk-estimator:hover label.sk-toggleable__label-arrow:before {color: black;}#sk-container-id-3 div.sk-toggleable__content {max-height: 0;max-width: 0;overflow: hidden;text-align: left;background-color: #f0f8ff;}#sk-container-id-3 div.sk-toggleable__content pre {margin: 0.2em;color: black;border-radius: 0.25em;background-color: #f0f8ff;}#sk-container-id-3 input.sk-toggleable__control:checked~div.sk-toggleable__content {max-height: 200px;max-width: 100%;overflow: auto;}#sk-container-id-3 input.sk-toggleable__control:checked~label.sk-toggleable__label-arrow:before {content: \"▾\";}#sk-container-id-3 div.sk-estimator input.sk-toggleable__control:checked~label.sk-toggleable__label {background-color: #d4ebff;}#sk-container-id-3 div.sk-label input.sk-toggleable__control:checked~label.sk-toggleable__label {background-color: #d4ebff;}#sk-container-id-3 input.sk-hidden--visually {border: 0;clip: rect(1px 1px 1px 1px);clip: rect(1px, 1px, 1px, 1px);height: 1px;margin: -1px;overflow: hidden;padding: 0;position: absolute;width: 1px;}#sk-container-id-3 div.sk-estimator {font-family: monospace;background-color: #f0f8ff;border: 1px dotted black;border-radius: 0.25em;box-sizing: border-box;margin-bottom: 0.5em;}#sk-container-id-3 div.sk-estimator:hover {background-color: #d4ebff;}#sk-container-id-3 div.sk-parallel-item::after {content: \"\";width: 100%;border-bottom: 1px solid gray;flex-grow: 1;}#sk-container-id-3 div.sk-label:hover label.sk-toggleable__label {background-color: #d4ebff;}#sk-container-id-3 div.sk-serial::before {content: \"\";position: absolute;border-left: 1px solid gray;box-sizing: border-box;top: 0;bottom: 0;left: 50%;z-index: 0;}#sk-container-id-3 div.sk-serial {display: flex;flex-direction: column;align-items: center;background-color: white;padding-right: 0.2em;padding-left: 0.2em;position: relative;}#sk-container-id-3 div.sk-item {position: relative;z-index: 1;}#sk-container-id-3 div.sk-parallel {display: flex;align-items: stretch;justify-content: center;background-color: white;position: relative;}#sk-container-id-3 div.sk-item::before, #sk-container-id-3 div.sk-parallel-item::before {content: \"\";position: absolute;border-left: 1px solid gray;box-sizing: border-box;top: 0;bottom: 0;left: 50%;z-index: -1;}#sk-container-id-3 div.sk-parallel-item {display: flex;flex-direction: column;z-index: 1;position: relative;background-color: white;}#sk-container-id-3 div.sk-parallel-item:first-child::after {align-self: flex-end;width: 50%;}#sk-container-id-3 div.sk-parallel-item:last-child::after {align-self: flex-start;width: 50%;}#sk-container-id-3 div.sk-parallel-item:only-child::after {width: 0;}#sk-container-id-3 div.sk-dashed-wrapped {border: 1px dashed gray;margin: 0 0.4em 0.5em 0.4em;box-sizing: border-box;padding-bottom: 0.4em;background-color: white;}#sk-container-id-3 div.sk-label label {font-family: monospace;font-weight: bold;display: inline-block;line-height: 1.2em;}#sk-container-id-3 div.sk-label-container {text-align: center;}#sk-container-id-3 div.sk-container {/* jupyter's `normalize.less` sets `[hidden] { display: none; }` but bootstrap.min.css set `[hidden] { display: none !important; }` so we also need the `!important` here to be able to override the default hidden behavior on the sphinx rendered scikit-learn.org. See: https://github.com/scikit-learn/scikit-learn/issues/21755 */display: inline-block !important;position: relative;}#sk-container-id-3 div.sk-text-repr-fallback {display: none;}</style><div id=\"sk-container-id-3\" class=\"sk-top-container\"><div class=\"sk-text-repr-fallback\"><pre>XGBClassifier(base_score=None, booster=None, callbacks=None,\n              colsample_bylevel=None, colsample_bynode=None,\n              colsample_bytree=None, early_stopping_rounds=None,\n              enable_categorical=False, eval_metric=None, feature_types=None,\n              gamma=None, gpu_id=None, grow_policy=None, importance_type=None,\n              interaction_constraints=None, learning_rate=0.01, max_bin=None,\n              max_cat_threshold=None, max_cat_to_onehot=None,\n              max_delta_step=None, max_depth=None, max_leaves=None,\n              min_child_weight=None, missing=nan, monotone_constraints=None,\n              n_estimators=500, n_jobs=None, num_parallel_tree=None,\n              predictor=None, random_state=None, ...)</pre><b>In a Jupyter environment, please rerun this cell to show the HTML representation or trust the notebook. <br />On GitHub, the HTML representation is unable to render, please try loading this page with nbviewer.org.</b></div><div class=\"sk-container\" hidden><div class=\"sk-item\"><div class=\"sk-estimator sk-toggleable\"><input class=\"sk-toggleable__control sk-hidden--visually\" id=\"sk-estimator-id-3\" type=\"checkbox\" checked><label for=\"sk-estimator-id-3\" class=\"sk-toggleable__label sk-toggleable__label-arrow\">XGBClassifier</label><div class=\"sk-toggleable__content\"><pre>XGBClassifier(base_score=None, booster=None, callbacks=None,\n              colsample_bylevel=None, colsample_bynode=None,\n              colsample_bytree=None, early_stopping_rounds=None,\n              enable_categorical=False, eval_metric=None, feature_types=None,\n              gamma=None, gpu_id=None, grow_policy=None, importance_type=None,\n              interaction_constraints=None, learning_rate=0.01, max_bin=None,\n              max_cat_threshold=None, max_cat_to_onehot=None,\n              max_delta_step=None, max_depth=None, max_leaves=None,\n              min_child_weight=None, missing=nan, monotone_constraints=None,\n              n_estimators=500, n_jobs=None, num_parallel_tree=None,\n              predictor=None, random_state=None, ...)</pre></div></div></div></div></div>"
     },
     "execution_count": 110,
     "metadata": {},
     "output_type": "execute_result"
    }
   ],
   "source": [
    "from xgboost import XGBClassifier\n",
    "\n",
    "X_test_eval, X_test_norm, y_test_eval, y_test_norm = train_test_split(X_test, y_test, test_size=0.5, random_state=4)\n",
    "\n",
    "X_train[\"CabinNumber\"] = X_train[\"CabinNumber\"].astype(int)\n",
    "X_test_eval[\"CabinNumber\"] = X_test_eval[\"CabinNumber\"].astype(int)\n",
    "X_test_norm[\"CabinNumber\"] = X_test_norm[\"CabinNumber\"].astype(int)\n",
    "\n",
    "forestBeta = XGBClassifier(n_estimators = 500, learning_rate = 0.01,verbosity = 1)\n",
    "forestBeta.fit(X_train,y_train, eval_set = [(X_test_eval,y_test_eval)], early_stopping_rounds = 10)"
   ],
   "metadata": {
    "collapsed": false
   }
  },
  {
   "cell_type": "code",
   "execution_count": 111,
   "outputs": [
    {
     "name": "stdout",
     "output_type": "stream",
     "text": [
      "0.8011494252873563\n"
     ]
    }
   ],
   "source": [
    "yPredsForestBeta = forestBeta.predict(X_test_norm)\n",
    "print(accuracy_score(y_test_norm, yPredsForestBeta))"
   ],
   "metadata": {
    "collapsed": false
   }
  },
  {
   "cell_type": "code",
   "execution_count": 112,
   "outputs": [
    {
     "data": {
      "text/plain": "  PassengerId HomePlanet CryoSleep  Cabin  Destination   Age    VIP  \\\n0     0013_01      Earth      True  G/3/S  TRAPPIST-1e  27.0  False   \n1     0018_01      Earth     False  F/4/S  TRAPPIST-1e  19.0  False   \n2     0019_01     Europa      True  C/0/S  55 Cancri e  31.0  False   \n3     0021_01     Europa     False  C/1/S  TRAPPIST-1e  38.0  False   \n4     0023_01      Earth     False  F/5/S  TRAPPIST-1e  20.0  False   \n\n   RoomService  FoodCourt  ShoppingMall     Spa  VRDeck              Name  \n0          0.0        0.0           0.0     0.0     0.0   Nelly Carsoning  \n1          0.0        9.0           0.0  2823.0     0.0    Lerome Peckers  \n2          0.0        0.0           0.0     0.0     0.0   Sabih Unhearfus  \n3          0.0     6652.0           0.0   181.0   585.0  Meratz Caltilter  \n4         10.0        0.0         635.0     0.0     0.0   Brence Harperez  ",
      "text/html": "<div>\n<style scoped>\n    .dataframe tbody tr th:only-of-type {\n        vertical-align: middle;\n    }\n\n    .dataframe tbody tr th {\n        vertical-align: top;\n    }\n\n    .dataframe thead th {\n        text-align: right;\n    }\n</style>\n<table border=\"1\" class=\"dataframe\">\n  <thead>\n    <tr style=\"text-align: right;\">\n      <th></th>\n      <th>PassengerId</th>\n      <th>HomePlanet</th>\n      <th>CryoSleep</th>\n      <th>Cabin</th>\n      <th>Destination</th>\n      <th>Age</th>\n      <th>VIP</th>\n      <th>RoomService</th>\n      <th>FoodCourt</th>\n      <th>ShoppingMall</th>\n      <th>Spa</th>\n      <th>VRDeck</th>\n      <th>Name</th>\n    </tr>\n  </thead>\n  <tbody>\n    <tr>\n      <th>0</th>\n      <td>0013_01</td>\n      <td>Earth</td>\n      <td>True</td>\n      <td>G/3/S</td>\n      <td>TRAPPIST-1e</td>\n      <td>27.0</td>\n      <td>False</td>\n      <td>0.0</td>\n      <td>0.0</td>\n      <td>0.0</td>\n      <td>0.0</td>\n      <td>0.0</td>\n      <td>Nelly Carsoning</td>\n    </tr>\n    <tr>\n      <th>1</th>\n      <td>0018_01</td>\n      <td>Earth</td>\n      <td>False</td>\n      <td>F/4/S</td>\n      <td>TRAPPIST-1e</td>\n      <td>19.0</td>\n      <td>False</td>\n      <td>0.0</td>\n      <td>9.0</td>\n      <td>0.0</td>\n      <td>2823.0</td>\n      <td>0.0</td>\n      <td>Lerome Peckers</td>\n    </tr>\n    <tr>\n      <th>2</th>\n      <td>0019_01</td>\n      <td>Europa</td>\n      <td>True</td>\n      <td>C/0/S</td>\n      <td>55 Cancri e</td>\n      <td>31.0</td>\n      <td>False</td>\n      <td>0.0</td>\n      <td>0.0</td>\n      <td>0.0</td>\n      <td>0.0</td>\n      <td>0.0</td>\n      <td>Sabih Unhearfus</td>\n    </tr>\n    <tr>\n      <th>3</th>\n      <td>0021_01</td>\n      <td>Europa</td>\n      <td>False</td>\n      <td>C/1/S</td>\n      <td>TRAPPIST-1e</td>\n      <td>38.0</td>\n      <td>False</td>\n      <td>0.0</td>\n      <td>6652.0</td>\n      <td>0.0</td>\n      <td>181.0</td>\n      <td>585.0</td>\n      <td>Meratz Caltilter</td>\n    </tr>\n    <tr>\n      <th>4</th>\n      <td>0023_01</td>\n      <td>Earth</td>\n      <td>False</td>\n      <td>F/5/S</td>\n      <td>TRAPPIST-1e</td>\n      <td>20.0</td>\n      <td>False</td>\n      <td>10.0</td>\n      <td>0.0</td>\n      <td>635.0</td>\n      <td>0.0</td>\n      <td>0.0</td>\n      <td>Brence Harperez</td>\n    </tr>\n  </tbody>\n</table>\n</div>"
     },
     "execution_count": 112,
     "metadata": {},
     "output_type": "execute_result"
    }
   ],
   "source": [
    "test_df = pd.read_csv(\"./spaceship-titanic/test.csv\")\n"
   ],
   "metadata": {
    "collapsed": false
   }
  },
  {
   "cell_type": "code",
   "execution_count": 114,
   "outputs": [
    {
     "data": {
      "text/plain": "PassengerId       0\nHomePlanet        0\nCryoSleep         0\nCabin           100\nDestination      92\nAge              91\nVIP              93\nRoomService      82\nFoodCourt       106\nShoppingMall     98\nSpa             101\nVRDeck           80\nName             94\ndtype: int64"
     },
     "execution_count": 114,
     "metadata": {},
     "output_type": "execute_result"
    }
   ],
   "source": [
    "\n",
    "most_common_planet = test_df[\"HomePlanet\"].value_counts().index[0]\n",
    "test_df[\"HomePlanet\"].replace(np.nan, most_common_planet, inplace=True)\n",
    "most_common_cryostate = test_df[\"CryoSleep\"].value_counts().index[0]\n",
    "test_df[\"CryoSleep\"].replace(np.nan, most_common_planet, inplace=True)\n",
    "\n",
    "test_df.isna().sum()"
   ],
   "metadata": {
    "collapsed": false
   }
  },
  {
   "cell_type": "code",
   "execution_count": 115,
   "outputs": [
    {
     "data": {
      "text/plain": "  HomePlanet CryoSleep  Destination   Age    VIP  RoomService  FoodCourt  \\\n0      Earth      True  TRAPPIST-1e  27.0  False          0.0        0.0   \n1      Earth     False  TRAPPIST-1e  19.0  False          0.0        9.0   \n2     Europa      True  55 Cancri e  31.0  False          0.0        0.0   \n3     Europa     False  TRAPPIST-1e  38.0  False          0.0     6652.0   \n4      Earth     False  TRAPPIST-1e  20.0  False         10.0        0.0   \n\n   ShoppingMall     Spa  VRDeck Deck CabinNumber Side  \n0           0.0     0.0     0.0    G           3    S  \n1           0.0  2823.0     0.0    F           4    S  \n2           0.0     0.0     0.0    C           0    S  \n3           0.0   181.0   585.0    C           1    S  \n4         635.0     0.0     0.0    F           5    S  ",
      "text/html": "<div>\n<style scoped>\n    .dataframe tbody tr th:only-of-type {\n        vertical-align: middle;\n    }\n\n    .dataframe tbody tr th {\n        vertical-align: top;\n    }\n\n    .dataframe thead th {\n        text-align: right;\n    }\n</style>\n<table border=\"1\" class=\"dataframe\">\n  <thead>\n    <tr style=\"text-align: right;\">\n      <th></th>\n      <th>HomePlanet</th>\n      <th>CryoSleep</th>\n      <th>Destination</th>\n      <th>Age</th>\n      <th>VIP</th>\n      <th>RoomService</th>\n      <th>FoodCourt</th>\n      <th>ShoppingMall</th>\n      <th>Spa</th>\n      <th>VRDeck</th>\n      <th>Deck</th>\n      <th>CabinNumber</th>\n      <th>Side</th>\n    </tr>\n  </thead>\n  <tbody>\n    <tr>\n      <th>0</th>\n      <td>Earth</td>\n      <td>True</td>\n      <td>TRAPPIST-1e</td>\n      <td>27.0</td>\n      <td>False</td>\n      <td>0.0</td>\n      <td>0.0</td>\n      <td>0.0</td>\n      <td>0.0</td>\n      <td>0.0</td>\n      <td>G</td>\n      <td>3</td>\n      <td>S</td>\n    </tr>\n    <tr>\n      <th>1</th>\n      <td>Earth</td>\n      <td>False</td>\n      <td>TRAPPIST-1e</td>\n      <td>19.0</td>\n      <td>False</td>\n      <td>0.0</td>\n      <td>9.0</td>\n      <td>0.0</td>\n      <td>2823.0</td>\n      <td>0.0</td>\n      <td>F</td>\n      <td>4</td>\n      <td>S</td>\n    </tr>\n    <tr>\n      <th>2</th>\n      <td>Europa</td>\n      <td>True</td>\n      <td>55 Cancri e</td>\n      <td>31.0</td>\n      <td>False</td>\n      <td>0.0</td>\n      <td>0.0</td>\n      <td>0.0</td>\n      <td>0.0</td>\n      <td>0.0</td>\n      <td>C</td>\n      <td>0</td>\n      <td>S</td>\n    </tr>\n    <tr>\n      <th>3</th>\n      <td>Europa</td>\n      <td>False</td>\n      <td>TRAPPIST-1e</td>\n      <td>38.0</td>\n      <td>False</td>\n      <td>0.0</td>\n      <td>6652.0</td>\n      <td>0.0</td>\n      <td>181.0</td>\n      <td>585.0</td>\n      <td>C</td>\n      <td>1</td>\n      <td>S</td>\n    </tr>\n    <tr>\n      <th>4</th>\n      <td>Earth</td>\n      <td>False</td>\n      <td>TRAPPIST-1e</td>\n      <td>20.0</td>\n      <td>False</td>\n      <td>10.0</td>\n      <td>0.0</td>\n      <td>635.0</td>\n      <td>0.0</td>\n      <td>0.0</td>\n      <td>F</td>\n      <td>5</td>\n      <td>S</td>\n    </tr>\n  </tbody>\n</table>\n</div>"
     },
     "execution_count": 115,
     "metadata": {},
     "output_type": "execute_result"
    }
   ],
   "source": [
    "test_df[[\"Deck\", \"CabinNumber\", \"Side\"]] = test_df[\"Cabin\"].str.split(\"/\", expand=True)\n",
    "test_df.drop(columns=[\"Cabin\", \"PassengerId\", \"Name\"], inplace=True, axis=1)\n",
    "test_df.head()"
   ],
   "metadata": {
    "collapsed": false
   }
  },
  {
   "cell_type": "code",
   "execution_count": 116,
   "outputs": [
    {
     "data": {
      "text/plain": "HomePlanet      0\nCryoSleep       0\nDestination     0\nAge             0\nVIP             0\nRoomService     0\nFoodCourt       0\nShoppingMall    0\nSpa             0\nVRDeck          0\nDeck            0\nCabinNumber     0\nSide            0\ndtype: int64"
     },
     "execution_count": 116,
     "metadata": {},
     "output_type": "execute_result"
    }
   ],
   "source": [
    "for i in range(5, 10):\n",
    "    mean_val = test_df.iloc[:, i].mean()\n",
    "    test_df.iloc[:, i].fillna(mean_val, inplace=True)\n",
    "test_df.fillna(0, inplace=True)\n",
    "test_df.isna().sum()"
   ],
   "metadata": {
    "collapsed": false
   }
  },
  {
   "cell_type": "code",
   "execution_count": 138,
   "outputs": [
    {
     "name": "stdout",
     "output_type": "stream",
     "text": [
      "HomePlanet\n"
     ]
    },
    {
     "ename": "ValueError",
     "evalue": "y contains previously unseen labels: 0",
     "output_type": "error",
     "traceback": [
      "\u001B[1;31m---------------------------------------------------------------------------\u001B[0m",
      "\u001B[1;31mKeyError\u001B[0m                                  Traceback (most recent call last)",
      "File \u001B[1;32m~\\AppData\\Local\\Programs\\Python\\Python311\\Lib\\site-packages\\sklearn\\utils\\_encode.py:225\u001B[0m, in \u001B[0;36m_encode\u001B[1;34m(values, uniques, check_unknown)\u001B[0m\n\u001B[0;32m    224\u001B[0m \u001B[38;5;28;01mtry\u001B[39;00m:\n\u001B[1;32m--> 225\u001B[0m     \u001B[38;5;28;01mreturn\u001B[39;00m \u001B[43m_map_to_integer\u001B[49m\u001B[43m(\u001B[49m\u001B[43mvalues\u001B[49m\u001B[43m,\u001B[49m\u001B[43m \u001B[49m\u001B[43muniques\u001B[49m\u001B[43m)\u001B[49m\n\u001B[0;32m    226\u001B[0m \u001B[38;5;28;01mexcept\u001B[39;00m \u001B[38;5;167;01mKeyError\u001B[39;00m \u001B[38;5;28;01mas\u001B[39;00m e:\n",
      "File \u001B[1;32m~\\AppData\\Local\\Programs\\Python\\Python311\\Lib\\site-packages\\sklearn\\utils\\_encode.py:165\u001B[0m, in \u001B[0;36m_map_to_integer\u001B[1;34m(values, uniques)\u001B[0m\n\u001B[0;32m    164\u001B[0m table \u001B[38;5;241m=\u001B[39m _nandict({val: i \u001B[38;5;28;01mfor\u001B[39;00m i, val \u001B[38;5;129;01min\u001B[39;00m \u001B[38;5;28menumerate\u001B[39m(uniques)})\n\u001B[1;32m--> 165\u001B[0m \u001B[38;5;28;01mreturn\u001B[39;00m np\u001B[38;5;241m.\u001B[39marray(\u001B[43m[\u001B[49m\u001B[43mtable\u001B[49m\u001B[43m[\u001B[49m\u001B[43mv\u001B[49m\u001B[43m]\u001B[49m\u001B[43m \u001B[49m\u001B[38;5;28;43;01mfor\u001B[39;49;00m\u001B[43m \u001B[49m\u001B[43mv\u001B[49m\u001B[43m \u001B[49m\u001B[38;5;129;43;01min\u001B[39;49;00m\u001B[43m \u001B[49m\u001B[43mvalues\u001B[49m\u001B[43m]\u001B[49m)\n",
      "File \u001B[1;32m~\\AppData\\Local\\Programs\\Python\\Python311\\Lib\\site-packages\\sklearn\\utils\\_encode.py:165\u001B[0m, in \u001B[0;36m<listcomp>\u001B[1;34m(.0)\u001B[0m\n\u001B[0;32m    164\u001B[0m table \u001B[38;5;241m=\u001B[39m _nandict({val: i \u001B[38;5;28;01mfor\u001B[39;00m i, val \u001B[38;5;129;01min\u001B[39;00m \u001B[38;5;28menumerate\u001B[39m(uniques)})\n\u001B[1;32m--> 165\u001B[0m \u001B[38;5;28;01mreturn\u001B[39;00m np\u001B[38;5;241m.\u001B[39marray([\u001B[43mtable\u001B[49m\u001B[43m[\u001B[49m\u001B[43mv\u001B[49m\u001B[43m]\u001B[49m \u001B[38;5;28;01mfor\u001B[39;00m v \u001B[38;5;129;01min\u001B[39;00m values])\n",
      "File \u001B[1;32m~\\AppData\\Local\\Programs\\Python\\Python311\\Lib\\site-packages\\sklearn\\utils\\_encode.py:159\u001B[0m, in \u001B[0;36m_nandict.__missing__\u001B[1;34m(self, key)\u001B[0m\n\u001B[0;32m    158\u001B[0m     \u001B[38;5;28;01mreturn\u001B[39;00m \u001B[38;5;28mself\u001B[39m\u001B[38;5;241m.\u001B[39mnan_value\n\u001B[1;32m--> 159\u001B[0m \u001B[38;5;28;01mraise\u001B[39;00m \u001B[38;5;167;01mKeyError\u001B[39;00m(key)\n",
      "\u001B[1;31mKeyError\u001B[0m: 0",
      "\nDuring handling of the above exception, another exception occurred:\n",
      "\u001B[1;31mValueError\u001B[0m                                Traceback (most recent call last)",
      "Cell \u001B[1;32mIn[138], line 8\u001B[0m\n\u001B[0;32m      6\u001B[0m     \u001B[38;5;28mprint\u001B[39m(column)\n\u001B[0;32m      7\u001B[0m     \u001B[38;5;28;01mif\u001B[39;00m test_df[column]\u001B[38;5;241m.\u001B[39mdtype \u001B[38;5;241m!=\u001B[39m \u001B[38;5;124m\"\u001B[39m\u001B[38;5;124mfloat64\u001B[39m\u001B[38;5;124m\"\u001B[39m \u001B[38;5;129;01mand\u001B[39;00m column \u001B[38;5;241m!=\u001B[39m \u001B[38;5;124m\"\u001B[39m\u001B[38;5;124mCabinNumber\u001B[39m\u001B[38;5;124m\"\u001B[39m:\n\u001B[1;32m----> 8\u001B[0m         test_df[column] \u001B[38;5;241m=\u001B[39m \u001B[43mlabel_encoder\u001B[49m\u001B[38;5;241;43m.\u001B[39;49m\u001B[43mtransform\u001B[49m\u001B[43m(\u001B[49m\u001B[43mtest_df\u001B[49m\u001B[43m[\u001B[49m\u001B[43mcolumn\u001B[49m\u001B[43m]\u001B[49m\u001B[43m)\u001B[49m\n\u001B[0;32m     10\u001B[0m test_df\u001B[38;5;241m.\u001B[39mdtypes\n",
      "File \u001B[1;32m~\\AppData\\Local\\Programs\\Python\\Python311\\Lib\\site-packages\\sklearn\\utils\\_set_output.py:140\u001B[0m, in \u001B[0;36m_wrap_method_output.<locals>.wrapped\u001B[1;34m(self, X, *args, **kwargs)\u001B[0m\n\u001B[0;32m    138\u001B[0m \u001B[38;5;129m@wraps\u001B[39m(f)\n\u001B[0;32m    139\u001B[0m \u001B[38;5;28;01mdef\u001B[39;00m \u001B[38;5;21mwrapped\u001B[39m(\u001B[38;5;28mself\u001B[39m, X, \u001B[38;5;241m*\u001B[39margs, \u001B[38;5;241m*\u001B[39m\u001B[38;5;241m*\u001B[39mkwargs):\n\u001B[1;32m--> 140\u001B[0m     data_to_wrap \u001B[38;5;241m=\u001B[39m \u001B[43mf\u001B[49m\u001B[43m(\u001B[49m\u001B[38;5;28;43mself\u001B[39;49m\u001B[43m,\u001B[49m\u001B[43m \u001B[49m\u001B[43mX\u001B[49m\u001B[43m,\u001B[49m\u001B[43m \u001B[49m\u001B[38;5;241;43m*\u001B[39;49m\u001B[43margs\u001B[49m\u001B[43m,\u001B[49m\u001B[43m \u001B[49m\u001B[38;5;241;43m*\u001B[39;49m\u001B[38;5;241;43m*\u001B[39;49m\u001B[43mkwargs\u001B[49m\u001B[43m)\u001B[49m\n\u001B[0;32m    141\u001B[0m     \u001B[38;5;28;01mif\u001B[39;00m \u001B[38;5;28misinstance\u001B[39m(data_to_wrap, \u001B[38;5;28mtuple\u001B[39m):\n\u001B[0;32m    142\u001B[0m         \u001B[38;5;66;03m# only wrap the first output for cross decomposition\u001B[39;00m\n\u001B[0;32m    143\u001B[0m         return_tuple \u001B[38;5;241m=\u001B[39m (\n\u001B[0;32m    144\u001B[0m             _wrap_data_with_container(method, data_to_wrap[\u001B[38;5;241m0\u001B[39m], X, \u001B[38;5;28mself\u001B[39m),\n\u001B[0;32m    145\u001B[0m             \u001B[38;5;241m*\u001B[39mdata_to_wrap[\u001B[38;5;241m1\u001B[39m:],\n\u001B[0;32m    146\u001B[0m         )\n",
      "File \u001B[1;32m~\\AppData\\Local\\Programs\\Python\\Python311\\Lib\\site-packages\\sklearn\\preprocessing\\_label.py:137\u001B[0m, in \u001B[0;36mLabelEncoder.transform\u001B[1;34m(self, y)\u001B[0m\n\u001B[0;32m    134\u001B[0m \u001B[38;5;28;01mif\u001B[39;00m _num_samples(y) \u001B[38;5;241m==\u001B[39m \u001B[38;5;241m0\u001B[39m:\n\u001B[0;32m    135\u001B[0m     \u001B[38;5;28;01mreturn\u001B[39;00m np\u001B[38;5;241m.\u001B[39marray([])\n\u001B[1;32m--> 137\u001B[0m \u001B[38;5;28;01mreturn\u001B[39;00m \u001B[43m_encode\u001B[49m\u001B[43m(\u001B[49m\u001B[43my\u001B[49m\u001B[43m,\u001B[49m\u001B[43m \u001B[49m\u001B[43muniques\u001B[49m\u001B[38;5;241;43m=\u001B[39;49m\u001B[38;5;28;43mself\u001B[39;49m\u001B[38;5;241;43m.\u001B[39;49m\u001B[43mclasses_\u001B[49m\u001B[43m)\u001B[49m\n",
      "File \u001B[1;32m~\\AppData\\Local\\Programs\\Python\\Python311\\Lib\\site-packages\\sklearn\\utils\\_encode.py:227\u001B[0m, in \u001B[0;36m_encode\u001B[1;34m(values, uniques, check_unknown)\u001B[0m\n\u001B[0;32m    225\u001B[0m         \u001B[38;5;28;01mreturn\u001B[39;00m _map_to_integer(values, uniques)\n\u001B[0;32m    226\u001B[0m     \u001B[38;5;28;01mexcept\u001B[39;00m \u001B[38;5;167;01mKeyError\u001B[39;00m \u001B[38;5;28;01mas\u001B[39;00m e:\n\u001B[1;32m--> 227\u001B[0m         \u001B[38;5;28;01mraise\u001B[39;00m \u001B[38;5;167;01mValueError\u001B[39;00m(\u001B[38;5;124mf\u001B[39m\u001B[38;5;124m\"\u001B[39m\u001B[38;5;124my contains previously unseen labels: \u001B[39m\u001B[38;5;132;01m{\u001B[39;00m\u001B[38;5;28mstr\u001B[39m(e)\u001B[38;5;132;01m}\u001B[39;00m\u001B[38;5;124m\"\u001B[39m)\n\u001B[0;32m    228\u001B[0m \u001B[38;5;28;01melse\u001B[39;00m:\n\u001B[0;32m    229\u001B[0m     \u001B[38;5;28;01mif\u001B[39;00m check_unknown:\n",
      "\u001B[1;31mValueError\u001B[0m: y contains previously unseen labels: 0"
     ]
    }
   ],
   "source": [
    "test_df[\"CryoSleep\"] =test_df[\"CryoSleep\"].astype(bool)\n",
    "test_df[\"Destination\"] =test_df[\"Destination\"].astype(str)\n",
    "test_df[\"Deck\"] =test_df[\"Deck\"].astype(str)\n",
    "test_df[\"Side\"] =test_df[\"Side\"].astype(str)\n",
    "for column in X_train.columns.to_list():\n",
    "    print(column)\n",
    "    if test_df[column].dtype != \"float64\" and column != \"CabinNumber\":\n",
    "        test_df[column] = label_encoder.transform(test_df[column])\n",
    "\n",
    "test_df.dtypes"
   ],
   "metadata": {
    "collapsed": false
   }
  },
  {
   "cell_type": "code",
   "execution_count": 118,
   "outputs": [
    {
     "data": {
      "text/plain": "array([1, 0, 1, 1, 1])"
     },
     "execution_count": 118,
     "metadata": {},
     "output_type": "execute_result"
    }
   ],
   "source": [
    "test_df[\"CabinNumber\"] = test_df[\"CabinNumber\"].astype(int)\n",
    "yPredsFinal = forestBeta.predict(test_df)\n"
   ],
   "metadata": {
    "collapsed": false
   }
  },
  {
   "cell_type": "code",
   "execution_count": 134,
   "outputs": [
    {
     "data": {
      "text/plain": "   HomePlanet  CryoSleep  Destination   Age  VIP  RoomService  FoodCourt  \\\n0           0          1            3  27.0    0          0.0        0.0   \n1           0          0            3  19.0    0          0.0        9.0   \n2           1          1            1  31.0    0          0.0        0.0   \n3           1          0            3  38.0    0          0.0     6652.0   \n4           0          0            3  20.0    0         10.0        0.0   \n\n   ShoppingMall     Spa  VRDeck  Deck  CabinNumber  Side  \n0           0.0     0.0     0.0     7            3     2  \n1           0.0  2823.0     0.0     6            4     2  \n2           0.0     0.0     0.0     3            0     2  \n3           0.0   181.0   585.0     3            1     2  \n4         635.0     0.0     0.0     6            5     2  ",
      "text/html": "<div>\n<style scoped>\n    .dataframe tbody tr th:only-of-type {\n        vertical-align: middle;\n    }\n\n    .dataframe tbody tr th {\n        vertical-align: top;\n    }\n\n    .dataframe thead th {\n        text-align: right;\n    }\n</style>\n<table border=\"1\" class=\"dataframe\">\n  <thead>\n    <tr style=\"text-align: right;\">\n      <th></th>\n      <th>HomePlanet</th>\n      <th>CryoSleep</th>\n      <th>Destination</th>\n      <th>Age</th>\n      <th>VIP</th>\n      <th>RoomService</th>\n      <th>FoodCourt</th>\n      <th>ShoppingMall</th>\n      <th>Spa</th>\n      <th>VRDeck</th>\n      <th>Deck</th>\n      <th>CabinNumber</th>\n      <th>Side</th>\n    </tr>\n  </thead>\n  <tbody>\n    <tr>\n      <th>0</th>\n      <td>0</td>\n      <td>1</td>\n      <td>3</td>\n      <td>27.0</td>\n      <td>0</td>\n      <td>0.0</td>\n      <td>0.0</td>\n      <td>0.0</td>\n      <td>0.0</td>\n      <td>0.0</td>\n      <td>7</td>\n      <td>3</td>\n      <td>2</td>\n    </tr>\n    <tr>\n      <th>1</th>\n      <td>0</td>\n      <td>0</td>\n      <td>3</td>\n      <td>19.0</td>\n      <td>0</td>\n      <td>0.0</td>\n      <td>9.0</td>\n      <td>0.0</td>\n      <td>2823.0</td>\n      <td>0.0</td>\n      <td>6</td>\n      <td>4</td>\n      <td>2</td>\n    </tr>\n    <tr>\n      <th>2</th>\n      <td>1</td>\n      <td>1</td>\n      <td>1</td>\n      <td>31.0</td>\n      <td>0</td>\n      <td>0.0</td>\n      <td>0.0</td>\n      <td>0.0</td>\n      <td>0.0</td>\n      <td>0.0</td>\n      <td>3</td>\n      <td>0</td>\n      <td>2</td>\n    </tr>\n    <tr>\n      <th>3</th>\n      <td>1</td>\n      <td>0</td>\n      <td>3</td>\n      <td>38.0</td>\n      <td>0</td>\n      <td>0.0</td>\n      <td>6652.0</td>\n      <td>0.0</td>\n      <td>181.0</td>\n      <td>585.0</td>\n      <td>3</td>\n      <td>1</td>\n      <td>2</td>\n    </tr>\n    <tr>\n      <th>4</th>\n      <td>0</td>\n      <td>0</td>\n      <td>3</td>\n      <td>20.0</td>\n      <td>0</td>\n      <td>10.0</td>\n      <td>0.0</td>\n      <td>635.0</td>\n      <td>0.0</td>\n      <td>0.0</td>\n      <td>6</td>\n      <td>5</td>\n      <td>2</td>\n    </tr>\n  </tbody>\n</table>\n</div>"
     },
     "execution_count": 134,
     "metadata": {},
     "output_type": "execute_result"
    }
   ],
   "source": [
    "test_df.head()"
   ],
   "metadata": {
    "collapsed": false
   }
  },
  {
   "cell_type": "code",
   "execution_count": null,
   "outputs": [],
   "source": [
    "pd.read_csv()"
   ],
   "metadata": {
    "collapsed": false
   }
  },
  {
   "cell_type": "code",
   "execution_count": 119,
   "outputs": [
    {
     "data": {
      "text/plain": "0    0013_01\n1    0018_01\n2    0019_01\n3    0021_01\n4    0023_01\nName: PassengerId, dtype: object"
     },
     "execution_count": 119,
     "metadata": {},
     "output_type": "execute_result"
    }
   ],
   "source": [
    "Ids = pd.read_csv(\"./spaceship-titanic/test.csv\")\n",
    "Ids = Ids[\"PassengerId\"]\n",
    "Ids.head()"
   ],
   "metadata": {
    "collapsed": false
   }
  },
  {
   "cell_type": "code",
   "execution_count": 121,
   "outputs": [
    {
     "data": {
      "text/plain": "  PassengerId      0\n0     0013_01  False\n1     0018_01   True\n2     0019_01  False\n3     0021_01   True\n4     0023_01  False",
      "text/html": "<div>\n<style scoped>\n    .dataframe tbody tr th:only-of-type {\n        vertical-align: middle;\n    }\n\n    .dataframe tbody tr th {\n        vertical-align: top;\n    }\n\n    .dataframe thead th {\n        text-align: right;\n    }\n</style>\n<table border=\"1\" class=\"dataframe\">\n  <thead>\n    <tr style=\"text-align: right;\">\n      <th></th>\n      <th>PassengerId</th>\n      <th>0</th>\n    </tr>\n  </thead>\n  <tbody>\n    <tr>\n      <th>0</th>\n      <td>0013_01</td>\n      <td>False</td>\n    </tr>\n    <tr>\n      <th>1</th>\n      <td>0018_01</td>\n      <td>True</td>\n    </tr>\n    <tr>\n      <th>2</th>\n      <td>0019_01</td>\n      <td>False</td>\n    </tr>\n    <tr>\n      <th>3</th>\n      <td>0021_01</td>\n      <td>True</td>\n    </tr>\n    <tr>\n      <th>4</th>\n      <td>0023_01</td>\n      <td>False</td>\n    </tr>\n  </tbody>\n</table>\n</div>"
     },
     "execution_count": 121,
     "metadata": {},
     "output_type": "execute_result"
    }
   ],
   "source": [
    "df_new = pd.concat([Ids, pd.Series(yPreds)], axis =1)\n",
    "df_new.head()"
   ],
   "metadata": {
    "collapsed": false
   }
  },
  {
   "cell_type": "code",
   "execution_count": 123,
   "outputs": [],
   "source": [
    "df_new.columns = [\"PassengerId\", \"Transported\"]\n",
    "df_new.set_index(\"PassengerId\", inplace = True)"
   ],
   "metadata": {
    "collapsed": false
   }
  },
  {
   "cell_type": "code",
   "execution_count": 132,
   "outputs": [
    {
     "data": {
      "text/plain": "            Transported\nPassengerId            \n0013_01            True\n0018_01           False\n0019_01            True\n0021_01           False\n0023_01            True",
      "text/html": "<div>\n<style scoped>\n    .dataframe tbody tr th:only-of-type {\n        vertical-align: middle;\n    }\n\n    .dataframe tbody tr th {\n        vertical-align: top;\n    }\n\n    .dataframe thead th {\n        text-align: right;\n    }\n</style>\n<table border=\"1\" class=\"dataframe\">\n  <thead>\n    <tr style=\"text-align: right;\">\n      <th></th>\n      <th>Transported</th>\n    </tr>\n    <tr>\n      <th>PassengerId</th>\n      <th></th>\n    </tr>\n  </thead>\n  <tbody>\n    <tr>\n      <th>0013_01</th>\n      <td>True</td>\n    </tr>\n    <tr>\n      <th>0018_01</th>\n      <td>False</td>\n    </tr>\n    <tr>\n      <th>0019_01</th>\n      <td>True</td>\n    </tr>\n    <tr>\n      <th>0021_01</th>\n      <td>False</td>\n    </tr>\n    <tr>\n      <th>0023_01</th>\n      <td>True</td>\n    </tr>\n  </tbody>\n</table>\n</div>"
     },
     "execution_count": 132,
     "metadata": {},
     "output_type": "execute_result"
    }
   ],
   "source": [
    "df_new[\"Transported\"].replace({False: True, True: False}, inplace = True)\n",
    "df_new.head()"
   ],
   "metadata": {
    "collapsed": false
   }
  },
  {
   "cell_type": "code",
   "execution_count": 133,
   "outputs": [],
   "source": [
    "df_new.to_csv(\"finalSubmission.csv\")"
   ],
   "metadata": {
    "collapsed": false
   }
  },
  {
   "cell_type": "code",
   "execution_count": 128,
   "outputs": [
    {
     "data": {
      "text/plain": "4277"
     },
     "execution_count": 128,
     "metadata": {},
     "output_type": "execute_result"
    }
   ],
   "source": [
    "df_new.size"
   ],
   "metadata": {
    "collapsed": false
   }
  },
  {
   "cell_type": "code",
   "execution_count": 55,
   "outputs": [
    {
     "data": {
      "text/plain": "  CabinRegion  Transported     0  count\n0           A         True   127      1\n1           B         True   572      1\n2           C         True   508      1\n3           D         True   207      1\n4           E         True   313      1\n5           F         True  1229      1\n6           G         True  1321      1\n7           T         True     1      1",
      "text/html": "<div>\n<style scoped>\n    .dataframe tbody tr th:only-of-type {\n        vertical-align: middle;\n    }\n\n    .dataframe tbody tr th {\n        vertical-align: top;\n    }\n\n    .dataframe thead th {\n        text-align: right;\n    }\n</style>\n<table border=\"1\" class=\"dataframe\">\n  <thead>\n    <tr style=\"text-align: right;\">\n      <th></th>\n      <th>CabinRegion</th>\n      <th>Transported</th>\n      <th>0</th>\n      <th>count</th>\n    </tr>\n  </thead>\n  <tbody>\n    <tr>\n      <th>0</th>\n      <td>A</td>\n      <td>True</td>\n      <td>127</td>\n      <td>1</td>\n    </tr>\n    <tr>\n      <th>1</th>\n      <td>B</td>\n      <td>True</td>\n      <td>572</td>\n      <td>1</td>\n    </tr>\n    <tr>\n      <th>2</th>\n      <td>C</td>\n      <td>True</td>\n      <td>508</td>\n      <td>1</td>\n    </tr>\n    <tr>\n      <th>3</th>\n      <td>D</td>\n      <td>True</td>\n      <td>207</td>\n      <td>1</td>\n    </tr>\n    <tr>\n      <th>4</th>\n      <td>E</td>\n      <td>True</td>\n      <td>313</td>\n      <td>1</td>\n    </tr>\n    <tr>\n      <th>5</th>\n      <td>F</td>\n      <td>True</td>\n      <td>1229</td>\n      <td>1</td>\n    </tr>\n    <tr>\n      <th>6</th>\n      <td>G</td>\n      <td>True</td>\n      <td>1321</td>\n      <td>1</td>\n    </tr>\n    <tr>\n      <th>7</th>\n      <td>T</td>\n      <td>True</td>\n      <td>1</td>\n      <td>1</td>\n    </tr>\n  </tbody>\n</table>\n</div>"
     },
     "execution_count": 55,
     "metadata": {},
     "output_type": "execute_result"
    }
   ],
   "source": [
    "plottingHelper.reset_index()"
   ],
   "metadata": {
    "collapsed": false
   }
  }
 ],
 "metadata": {
  "kernelspec": {
   "display_name": "Python 3",
   "language": "python",
   "name": "python3"
  },
  "language_info": {
   "codemirror_mode": {
    "name": "ipython",
    "version": 2
   },
   "file_extension": ".py",
   "mimetype": "text/x-python",
   "name": "python",
   "nbconvert_exporter": "python",
   "pygments_lexer": "ipython2",
   "version": "2.7.6"
  }
 },
 "nbformat": 4,
 "nbformat_minor": 0
}
